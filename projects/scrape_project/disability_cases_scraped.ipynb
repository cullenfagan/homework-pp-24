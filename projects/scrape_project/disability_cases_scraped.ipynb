{
  "nbformat": 4,
  "nbformat_minor": 0,
  "metadata": {
    "colab": {
      "provenance": []
    },
    "kernelspec": {
      "name": "python3",
      "display_name": "Python 3"
    },
    "language_info": {
      "name": "python"
    }
  },
  "cells": [
    {
      "cell_type": "markdown",
      "source": [
        "Pull titles of court cases with \"voting\" in the description from ADA website of pages"
      ],
      "metadata": {
        "id": "FxykDIYgQQ24"
      }
    },
    {
      "cell_type": "markdown",
      "source": [],
      "metadata": {
        "id": "6zWtg2VjyEZ1"
      }
    },
    {
      "cell_type": "code",
      "execution_count": 40,
      "metadata": {
        "id": "kKwx5sv39Tmx"
      },
      "outputs": [],
      "source": [
        "import pandas as pd\n",
        "from bs4 import BeautifulSoup\n",
        "import requests\n",
        "import time\n",
        "from random import randrange\n",
        "import re"
      ]
    },
    {
      "cell_type": "code",
      "source": [
        "base_url = \"https://www.justice.gov/crt/disability-rights-cases?page=\""
      ],
      "metadata": {
        "id": "_HcPY3Fv-MLa"
      },
      "execution_count": 41,
      "outputs": []
    },
    {
      "cell_type": "code",
      "source": [
        "urls_list = []\n",
        "for i in range(0, 13):\n",
        "  url = f\"{base_url}{i}\"\n",
        "  urls_list.append(url)\n"
      ],
      "metadata": {
        "id": "94a_qee1zG9x"
      },
      "execution_count": 42,
      "outputs": []
    },
    {
      "cell_type": "code",
      "source": [
        "urls_list"
      ],
      "metadata": {
        "colab": {
          "base_uri": "https://localhost:8080/"
        },
        "id": "smUZBoEC15zi",
        "outputId": "f3168ab4-dd3d-42fe-9c2d-bfcfe7ac535b"
      },
      "execution_count": 43,
      "outputs": [
        {
          "output_type": "execute_result",
          "data": {
            "text/plain": [
              "['https://www.justice.gov/crt/disability-rights-cases?page=0',\n",
              " 'https://www.justice.gov/crt/disability-rights-cases?page=1',\n",
              " 'https://www.justice.gov/crt/disability-rights-cases?page=2',\n",
              " 'https://www.justice.gov/crt/disability-rights-cases?page=3',\n",
              " 'https://www.justice.gov/crt/disability-rights-cases?page=4',\n",
              " 'https://www.justice.gov/crt/disability-rights-cases?page=5',\n",
              " 'https://www.justice.gov/crt/disability-rights-cases?page=6',\n",
              " 'https://www.justice.gov/crt/disability-rights-cases?page=7',\n",
              " 'https://www.justice.gov/crt/disability-rights-cases?page=8',\n",
              " 'https://www.justice.gov/crt/disability-rights-cases?page=9',\n",
              " 'https://www.justice.gov/crt/disability-rights-cases?page=10',\n",
              " 'https://www.justice.gov/crt/disability-rights-cases?page=11',\n",
              " 'https://www.justice.gov/crt/disability-rights-cases?page=12']"
            ]
          },
          "metadata": {},
          "execution_count": 43
        }
      ]
    },
    {
      "cell_type": "code",
      "source": [
        "cases_with_voting = []\n",
        "case_list = []\n",
        "for url in urls_list:\n",
        "    print(f\"Scraping {url}\")\n",
        "    response = requests.get(url)\n",
        "    soup = BeautifulSoup(response.text, \"html.parser\")\n",
        "    cases = soup.find_all('div', class_='views-row')\n",
        "    for case in cases:\n",
        "        title_tag = case.find('span', class_='field-formatter--string')\n",
        "        description_tag = case.find('div', class_='field-formatter--text-default field-text-format--wysiwyg text-formatted field_overview')\n",
        "        if title_tag and description_tag:\n",
        "            title = title_tag.text.strip()\n",
        "            description = description_tag.text.strip()\n",
        "            case_list.append({'Title': title, 'Description': description})\n",
        "            if re.search(r'\\bvoting\\b', description, re.IGNORECASE):\n",
        "                cases_with_voting.append({'Title': title, 'Description': description})\n",
        "                print(f\"Title: {title}\")\n",
        "                print(f\"Description: {description}\\n\")"
      ],
      "metadata": {
        "colab": {
          "base_uri": "https://localhost:8080/"
        },
        "id": "rVWv9MS_A9yx",
        "outputId": "398c9776-603d-449f-c66e-2320945c9c8f"
      },
      "execution_count": 83,
      "outputs": [
        {
          "output_type": "stream",
          "name": "stdout",
          "text": [
            "Scraping https://www.justice.gov/crt/disability-rights-cases?page=0\n",
            "Title: League of Women Voters of Ohio v. Frank LaRose\n",
            "Description: On June 17, 2024, the United States filed a Statement of Interest in the League of Women Voters v. Frank LaRose, No. 23-cv-02414 (N.D. Ohio). Plaintiffs allege that Ohio law unlawfully restricts who may assist voters with disabilities with voting absentee in violation of Title II of the ADA, Section 208 of the Voting Rights Act, and other laws. Ohio’s law added a criminal penalty for impermissibly possessing or returning another person’s absentee ballot. The SOI confirms that Section 208 permits voters with disabilities who require assistance to receive that assistance from any person they choose, so long as that person is not an agent of the voter’s employer or union. It also affirms that Title II requires public entities provide equal opportunities to vote absentee and allows voters with disabilities to use an assistor of their choice as a reasonable modification.\n",
            "Press Release\n",
            "\n",
            "Title: U.S. v. State of Alaska\n",
            "Description: On June 17, 2024, the Department of Justice issued a letter of findings that Alaska violated Title II of the ADA by denying voters with disabilities an equal opportunity to participate in the voting process, failed to provide an accessible ballot for in-person voting, selected inaccessible polling places for federal, state, and local elections, and maintained an inaccessible elections website.Press Release\n",
            "\n",
            "Title: Upton County, TX Election Website Accessibility\n",
            "Description: On June 14, 2024, the Civil Rights Division and the U.S. Attorneys’ Offices for the Eastern, Northern, Southern, and Western Districts of Texas secured settlement agreements with four Texas counties--Colorado, Runnels, Smith, and Upton--to resolve the Department's findings that the Counties violated Title II of the ADA by maintaining election websites that discriminate against individuals with vision or manual disabilities.  The websites provide essential voting information and registration requirements.  Under the settlement agreements, the counties agreed to make all future and existing online election content accessible to people with disabilities.  The counties also agreed to hire an independent auditor to evaluate the accessibility of their election websites’ content, provide notice to visitors and users of the websites to solicit comments and requests about any accessibility barriers, designate an employee to coordinate its efforts, revise its procedures, and train relevant personnel. \n",
            "Press Release - Letter of Findings \n",
            "Press Release - Settlement Agreement\n",
            "\n",
            "Title: Runnels County, TX Election Website Accessibility\n",
            "Description: On June 14, 2024, the Civil Rights Division and the U.S. Attorneys’ Offices for the Eastern, Northern, Southern, and Western Districts of Texas secured settlement agreements with four Texas counties--Colorado, Runnels, Smith, and Upton--to resolve the Department's findings that the Counties violated Title II of the ADA by maintaining election websites that discriminate against individuals with vision or manual disabilities.  The websites provide essential voting information and registration requirements.  Under the settlement agreements, the counties agreed to make all future and existing online election content accessible to people with disabilities.  The counties also agreed to hire an independent auditor to evaluate the accessibility of their election websites’ content, provide notice to visitors and users of the websites to solicit comments and requests about any accessibility barriers, designate an employee to coordinate its efforts, revise its procedures, and train relevant personnel. \n",
            "Press Release - Letter of Findings\n",
            "Press Release - Settlement Agreement\n",
            "\n",
            "Scraping https://www.justice.gov/crt/disability-rights-cases?page=1\n",
            "Title: Smith County, TX Election Website Accessibility\n",
            "Description: On June 14, 2024, the Civil Rights Division and the U.S. Attorneys’ Offices for the Eastern, Northern, Southern, and Western Districts of Texas secured settlement agreements with four Texas counties--Colorado, Runnels, Smith, and Upton--to resolve the Department's findings that the Counties violated Title II of the ADA by maintaining election websites that discriminate against individuals with vision or manual disabilities.  The websites provide essential voting information and registration requirements.  Under the settlement agreements, the counties agreed to make all future and existing online election content accessible to people with disabilities.  The counties also agreed to hire an independent auditor to evaluate the accessibility of their election websites’ content, provide notice to visitors and users of the websites to solicit comments and requests about any accessibility barriers, designate an employee to coordinate its efforts, revise its procedures, and train relevant personnel. \n",
            "Press Release - Letter of Findings\n",
            "Press Release - Settlement Agreement\n",
            "\n",
            "Title: Colorado County, TX Election Website Accessibility\n",
            "Description: On June 14, 2024, the Civil Rights Division and the U.S. Attorneys’ Offices for the Eastern, Northern, Southern, and Western Districts of Texas secured settlement agreements with four Texas counties--Colorado, Runnels, Smith, and Upton--to resolve the Department's findings that the Counties violated Title II of the ADA by maintaining election websites that discriminate against individuals with vision or manual disabilities.  The websites provide essential voting information and registration requirements.  Under the settlement agreements, the counties agreed to make all future and existing online election content accessible to people with disabilities.  The counties also agreed to hire an independent auditor to evaluate the accessibility of their election websites’ content, provide notice to visitors and users of the websites to solicit comments and requests about any accessibility barriers, designate an employee to coordinate its efforts, revise its procedures, and train relevant personnel.\n",
            "Press Release - Letter of Findings\n",
            "Press Release - Settlement Agreement\n",
            "\n",
            "Scraping https://www.justice.gov/crt/disability-rights-cases?page=2\n",
            "Title: U.S. v. Los Angeles County\n",
            "Description: On August 1, 2024, the Department of Justice reached an agreement with Los Angeles County to resolve its lawsuit alleging that the county violated the ADA by denying voters with disabilities an equal opportunity to participate in its voting programs, services, and activities when it failed to select and use facilities as polling places that are accessible to persons with disabilities. The lawsuit was filed in June 2023 after an investigation that found the county excluded individuals with disabilities from participating in its in-person voting programs by selecting and using vote centers with architectural barriers. The lawsuit also alleged that the county’s curbside voting program was inaccessible. Under the settlement agreement, the county will work with an independent accessibility expert for three years on site selection policies and procedures to ensure that the county selects locations to serve as voting centers that are, or can be made more accessible during the voting period. The county has agreed to work with the expert and the department to implement recommendations. The expert will provide semiannual reports on their findings to the county and the department. \n",
            "Press Release - Complaint\n",
            "Press Release - Settlement Agreement\n",
            "\n",
            "Title: In Re Georgia Senate Bill 202\n",
            "Description: On January 31, 2024, the Justice Department filed a statement of interest explaining how the ADA's equal opportunity and reasonable modification requirements apply in the voting context.  The statement of interest was filed in In Re Georgia SB 202, a consolidated lawsuit challenging restrictions on absentee and in-person voting under Georgia Senate Bill SB 202 (“SB 202”).  One of the private lawsuits alleges that SB 202 fails to provide people with disabilities an equal opportunity to vote absentee and in-person or make reasonable modifications to avoid disability-based discrimination, in violation of Title II of the Americans with Disabilities Act and Section 504 of the Rehabilitation Act. The department’s brief explains that, under the ADA, voters with disabilities must have an equal opportunity to vote by a particular method as do voters without disabilities, and that this equal opportunity requirement is separate from the requirement that public entities make reasonable modifications.\n",
            "\n",
            "Scraping https://www.justice.gov/crt/disability-rights-cases?page=3\n",
            "Title: Board of Election Commissioners for the City of St Louis, MO\n",
            "Description: On Jan. 12, 2021, the Justice Department reached a settlement under Title II of the Americans with Disabilities Act (ADA) with the Board of Election Commissioners for the City of St. Louis to ensure that St. Louis polling places are accessible during elections to individuals with mobility and vision impairments. The department identified architectural barriers at St. Louis polling places, including inaccessible parking, ramps that were too steep, stairs at the only entrance or route to the voting area, and doorways with thresholds that were too high. The department also identified that the St. Louis Board fails to provide accessible curbside voting and auxiliary aids and services, including headphones for some accessible voting machines, and also fails to provide voters with disabilities the same amount of privacy and independence while voting as voters without disabilities. Under the agreement, the St. Louis Board will begin remediating its voting program. To make its selected polling places accessible, the St. Louis Board will employ temporary measures, such as portable ramps, signage, and propped open doors. In addition, the St. Louis Board will train its poll workers and other elections staff on the requirements of the ADA and how to use temporary measures to ensure each polling place is accessible during elections. The St. Louis Board will also survey polling locations for accessibility and maintain the accessibility of each polling place it uses on election days. When selecting future polling places, the agreement requires the St. Louis Board to select locations that will be accessible during elections.\n",
            "On October 3, 2023, the Department and St. Louis Board agreed to modify and extend the agreement. The St. Louis Board will hire an expert for conducting or reviewing accessibility surveys, identifying appropriate temporary measures, and training staff. The agreement expires on July 11, 2025.\n",
            " \n",
            "Press Release\n",
            "\n",
            "Scraping https://www.justice.gov/crt/disability-rights-cases?page=4\n",
            "Scraping https://www.justice.gov/crt/disability-rights-cases?page=5\n",
            "Scraping https://www.justice.gov/crt/disability-rights-cases?page=6\n",
            "Scraping https://www.justice.gov/crt/disability-rights-cases?page=7\n",
            "Title: Carey v Wisconsin Election Commission\n",
            "Description: On August 18, 2022, the Justice Department filed a Statement of Interest in Carey, et al. v. Wisconsin Election Commission, et al., Case No. 3:22-cv-0402 clarifying the obligation to provide assistance to voters with disabilities under Section 208 of the Voting Rights Act and Title II of the ADA.  In their motion for preliminary injunction, Plaintiffs argue that Wisconsin law violates Section 208 by barring the assistance they need to return their absentee ballots to be counted and that the ADA requires Wisconsin to make reasonable modifications in policies, practices, and procedures when the modifications are necessary to avoid discrimination on the basis of disability.\n",
            "\n",
            "Title: Jefferson County Board of Elections\n",
            "Description: On July 20, 2022, the United States executed a Settlement Agreement with the Jefferson County, Kentucky Board of Elections, under Title II of the ADA to ensure that its polling places are accessible during elections to individuals with disabilities. Under the terms of the settlement agreement, the Jefferson County Board will immediately begin remediation of its voting program. To make its selected polling places accessible, the Jefferson County Board will employ temporary measures, such as portable ramps, signage, and propped-open doors. The Jefferson County Board will also train its poll workers and other elections staff on the requirements of the ADA and how to properly employ temporary measures so that each polling place is accessible during elections.\n",
            "Press Release\n",
            "\n",
            "Scraping https://www.justice.gov/crt/disability-rights-cases?page=8\n",
            "Scraping https://www.justice.gov/crt/disability-rights-cases?page=9\n",
            "Title: Travis County Clerk's Office\n",
            "Description: On March 2, 2022 the U.S. Attorney’s Office for the Western District of Texas entered into a settlement agreement under Title II of the ADA with Travis County for its failure to select and maintain physically accessible polling places for voting. The agreement includes physical access alterations, adoption of a non-discrimination policy, furnish appropriate auxiliary aids and services, training staff, designating an ADA coordinator, review by the Department of relevant policies or procedures, and maintaining complaint resolution procedures and providing them to the Department.\n",
            "Press Release\n",
            "\n",
            "Scraping https://www.justice.gov/crt/disability-rights-cases?page=10\n",
            "Scraping https://www.justice.gov/crt/disability-rights-cases?page=11\n",
            "Scraping https://www.justice.gov/crt/disability-rights-cases?page=12\n",
            "Title: Newton County\n",
            "Description: On June 15, 2021, the United States executed a settlement agreement with Newton County, Arkansas and its Board of Election Commissioners under Title II of the ADA regarding polling place accessibility for persons with mobility and vision disabilities.  The settlement agreement requires the respondent to provide accessible polling places in order to have an accessible voting program, and to revise all relevant policies, practices, and procedures to comply with the ADA.\n",
            "Press Release\n",
            "\n"
          ]
        }
      ]
    },
    {
      "cell_type": "code",
      "source": [
        "for case in cases_with_voting:\n",
        "    print(f\"\\nTitle: {case['Title']}\")\n",
        "    print(f\"Description: {case['Description']}\")"
      ],
      "metadata": {
        "id": "0CnU1Dg29YRR",
        "colab": {
          "base_uri": "https://localhost:8080/"
        },
        "outputId": "9a5182f3-ba57-4cb8-828c-fd83a3d717b8"
      },
      "execution_count": 86,
      "outputs": [
        {
          "output_type": "stream",
          "name": "stdout",
          "text": [
            "\n",
            "Title: League of Women Voters of Ohio v. Frank LaRose\n",
            "Description: On June 17, 2024, the United States filed a Statement of Interest in the League of Women Voters v. Frank LaRose, No. 23-cv-02414 (N.D. Ohio). Plaintiffs allege that Ohio law unlawfully restricts who may assist voters with disabilities with voting absentee in violation of Title II of the ADA, Section 208 of the Voting Rights Act, and other laws. Ohio’s law added a criminal penalty for impermissibly possessing or returning another person’s absentee ballot. The SOI confirms that Section 208 permits voters with disabilities who require assistance to receive that assistance from any person they choose, so long as that person is not an agent of the voter’s employer or union. It also affirms that Title II requires public entities provide equal opportunities to vote absentee and allows voters with disabilities to use an assistor of their choice as a reasonable modification.\n",
            "Press Release\n",
            "\n",
            "Title: U.S. v. State of Alaska\n",
            "Description: On June 17, 2024, the Department of Justice issued a letter of findings that Alaska violated Title II of the ADA by denying voters with disabilities an equal opportunity to participate in the voting process, failed to provide an accessible ballot for in-person voting, selected inaccessible polling places for federal, state, and local elections, and maintained an inaccessible elections website.Press Release\n",
            "\n",
            "Title: Upton County, TX Election Website Accessibility\n",
            "Description: On June 14, 2024, the Civil Rights Division and the U.S. Attorneys’ Offices for the Eastern, Northern, Southern, and Western Districts of Texas secured settlement agreements with four Texas counties--Colorado, Runnels, Smith, and Upton--to resolve the Department's findings that the Counties violated Title II of the ADA by maintaining election websites that discriminate against individuals with vision or manual disabilities.  The websites provide essential voting information and registration requirements.  Under the settlement agreements, the counties agreed to make all future and existing online election content accessible to people with disabilities.  The counties also agreed to hire an independent auditor to evaluate the accessibility of their election websites’ content, provide notice to visitors and users of the websites to solicit comments and requests about any accessibility barriers, designate an employee to coordinate its efforts, revise its procedures, and train relevant personnel. \n",
            "Press Release - Letter of Findings \n",
            "Press Release - Settlement Agreement\n",
            "\n",
            "Title: Runnels County, TX Election Website Accessibility\n",
            "Description: On June 14, 2024, the Civil Rights Division and the U.S. Attorneys’ Offices for the Eastern, Northern, Southern, and Western Districts of Texas secured settlement agreements with four Texas counties--Colorado, Runnels, Smith, and Upton--to resolve the Department's findings that the Counties violated Title II of the ADA by maintaining election websites that discriminate against individuals with vision or manual disabilities.  The websites provide essential voting information and registration requirements.  Under the settlement agreements, the counties agreed to make all future and existing online election content accessible to people with disabilities.  The counties also agreed to hire an independent auditor to evaluate the accessibility of their election websites’ content, provide notice to visitors and users of the websites to solicit comments and requests about any accessibility barriers, designate an employee to coordinate its efforts, revise its procedures, and train relevant personnel. \n",
            "Press Release - Letter of Findings\n",
            "Press Release - Settlement Agreement\n",
            "\n",
            "Title: Smith County, TX Election Website Accessibility\n",
            "Description: On June 14, 2024, the Civil Rights Division and the U.S. Attorneys’ Offices for the Eastern, Northern, Southern, and Western Districts of Texas secured settlement agreements with four Texas counties--Colorado, Runnels, Smith, and Upton--to resolve the Department's findings that the Counties violated Title II of the ADA by maintaining election websites that discriminate against individuals with vision or manual disabilities.  The websites provide essential voting information and registration requirements.  Under the settlement agreements, the counties agreed to make all future and existing online election content accessible to people with disabilities.  The counties also agreed to hire an independent auditor to evaluate the accessibility of their election websites’ content, provide notice to visitors and users of the websites to solicit comments and requests about any accessibility barriers, designate an employee to coordinate its efforts, revise its procedures, and train relevant personnel. \n",
            "Press Release - Letter of Findings\n",
            "Press Release - Settlement Agreement\n",
            "\n",
            "Title: Colorado County, TX Election Website Accessibility\n",
            "Description: On June 14, 2024, the Civil Rights Division and the U.S. Attorneys’ Offices for the Eastern, Northern, Southern, and Western Districts of Texas secured settlement agreements with four Texas counties--Colorado, Runnels, Smith, and Upton--to resolve the Department's findings that the Counties violated Title II of the ADA by maintaining election websites that discriminate against individuals with vision or manual disabilities.  The websites provide essential voting information and registration requirements.  Under the settlement agreements, the counties agreed to make all future and existing online election content accessible to people with disabilities.  The counties also agreed to hire an independent auditor to evaluate the accessibility of their election websites’ content, provide notice to visitors and users of the websites to solicit comments and requests about any accessibility barriers, designate an employee to coordinate its efforts, revise its procedures, and train relevant personnel.\n",
            "Press Release - Letter of Findings\n",
            "Press Release - Settlement Agreement\n",
            "\n",
            "Title: U.S. v. Los Angeles County\n",
            "Description: On August 1, 2024, the Department of Justice reached an agreement with Los Angeles County to resolve its lawsuit alleging that the county violated the ADA by denying voters with disabilities an equal opportunity to participate in its voting programs, services, and activities when it failed to select and use facilities as polling places that are accessible to persons with disabilities. The lawsuit was filed in June 2023 after an investigation that found the county excluded individuals with disabilities from participating in its in-person voting programs by selecting and using vote centers with architectural barriers. The lawsuit also alleged that the county’s curbside voting program was inaccessible. Under the settlement agreement, the county will work with an independent accessibility expert for three years on site selection policies and procedures to ensure that the county selects locations to serve as voting centers that are, or can be made more accessible during the voting period. The county has agreed to work with the expert and the department to implement recommendations. The expert will provide semiannual reports on their findings to the county and the department. \n",
            "Press Release - Complaint\n",
            "Press Release - Settlement Agreement\n",
            "\n",
            "Title: In Re Georgia Senate Bill 202\n",
            "Description: On January 31, 2024, the Justice Department filed a statement of interest explaining how the ADA's equal opportunity and reasonable modification requirements apply in the voting context.  The statement of interest was filed in In Re Georgia SB 202, a consolidated lawsuit challenging restrictions on absentee and in-person voting under Georgia Senate Bill SB 202 (“SB 202”).  One of the private lawsuits alleges that SB 202 fails to provide people with disabilities an equal opportunity to vote absentee and in-person or make reasonable modifications to avoid disability-based discrimination, in violation of Title II of the Americans with Disabilities Act and Section 504 of the Rehabilitation Act. The department’s brief explains that, under the ADA, voters with disabilities must have an equal opportunity to vote by a particular method as do voters without disabilities, and that this equal opportunity requirement is separate from the requirement that public entities make reasonable modifications.\n",
            "\n",
            "Title: Board of Election Commissioners for the City of St Louis, MO\n",
            "Description: On Jan. 12, 2021, the Justice Department reached a settlement under Title II of the Americans with Disabilities Act (ADA) with the Board of Election Commissioners for the City of St. Louis to ensure that St. Louis polling places are accessible during elections to individuals with mobility and vision impairments. The department identified architectural barriers at St. Louis polling places, including inaccessible parking, ramps that were too steep, stairs at the only entrance or route to the voting area, and doorways with thresholds that were too high. The department also identified that the St. Louis Board fails to provide accessible curbside voting and auxiliary aids and services, including headphones for some accessible voting machines, and also fails to provide voters with disabilities the same amount of privacy and independence while voting as voters without disabilities. Under the agreement, the St. Louis Board will begin remediating its voting program. To make its selected polling places accessible, the St. Louis Board will employ temporary measures, such as portable ramps, signage, and propped open doors. In addition, the St. Louis Board will train its poll workers and other elections staff on the requirements of the ADA and how to use temporary measures to ensure each polling place is accessible during elections. The St. Louis Board will also survey polling locations for accessibility and maintain the accessibility of each polling place it uses on election days. When selecting future polling places, the agreement requires the St. Louis Board to select locations that will be accessible during elections.\n",
            "On October 3, 2023, the Department and St. Louis Board agreed to modify and extend the agreement. The St. Louis Board will hire an expert for conducting or reviewing accessibility surveys, identifying appropriate temporary measures, and training staff. The agreement expires on July 11, 2025.\n",
            " \n",
            "Press Release\n",
            "\n",
            "Title: Carey v Wisconsin Election Commission\n",
            "Description: On August 18, 2022, the Justice Department filed a Statement of Interest in Carey, et al. v. Wisconsin Election Commission, et al., Case No. 3:22-cv-0402 clarifying the obligation to provide assistance to voters with disabilities under Section 208 of the Voting Rights Act and Title II of the ADA.  In their motion for preliminary injunction, Plaintiffs argue that Wisconsin law violates Section 208 by barring the assistance they need to return their absentee ballots to be counted and that the ADA requires Wisconsin to make reasonable modifications in policies, practices, and procedures when the modifications are necessary to avoid discrimination on the basis of disability.\n",
            "\n",
            "Title: Jefferson County Board of Elections\n",
            "Description: On July 20, 2022, the United States executed a Settlement Agreement with the Jefferson County, Kentucky Board of Elections, under Title II of the ADA to ensure that its polling places are accessible during elections to individuals with disabilities. Under the terms of the settlement agreement, the Jefferson County Board will immediately begin remediation of its voting program. To make its selected polling places accessible, the Jefferson County Board will employ temporary measures, such as portable ramps, signage, and propped-open doors. The Jefferson County Board will also train its poll workers and other elections staff on the requirements of the ADA and how to properly employ temporary measures so that each polling place is accessible during elections.\n",
            "Press Release\n",
            "\n",
            "Title: Travis County Clerk's Office\n",
            "Description: On March 2, 2022 the U.S. Attorney’s Office for the Western District of Texas entered into a settlement agreement under Title II of the ADA with Travis County for its failure to select and maintain physically accessible polling places for voting. The agreement includes physical access alterations, adoption of a non-discrimination policy, furnish appropriate auxiliary aids and services, training staff, designating an ADA coordinator, review by the Department of relevant policies or procedures, and maintaining complaint resolution procedures and providing them to the Department.\n",
            "Press Release\n",
            "\n",
            "Title: Newton County\n",
            "Description: On June 15, 2021, the United States executed a settlement agreement with Newton County, Arkansas and its Board of Election Commissioners under Title II of the ADA regarding polling place accessibility for persons with mobility and vision disabilities.  The settlement agreement requires the respondent to provide accessible polling places in order to have an accessible voting program, and to revise all relevant policies, practices, and procedures to comply with the ADA.\n",
            "Press Release\n"
          ]
        }
      ]
    }
  ]
}