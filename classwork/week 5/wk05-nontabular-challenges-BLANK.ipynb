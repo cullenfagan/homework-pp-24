{
 "cells": [
  {
   "cell_type": "markdown",
   "metadata": {
    "id": "s1gmCxq4kQCP"
   },
   "source": [
    "# Challenges Scraping Non-Tabular Data\n",
    "\n",
    "On <a href=\"https://sandeepmj.github.io/scrape-example-page\">this demo page</a> I've reproduced several variations of issues we are likely to encounter when scraping.\n",
    "\n",
    "- Review scrape of an well-organized page.\n",
    "- Dynamically getting column names.\n",
    "- Scraping a challenging page.\n",
    "- Excluding multi-classes.\n",
    "\n",
    "\n",
    "Let's start by scraping <a href=\"https://sandeepmj.github.io/scrape-example-page/#organized\">the organized CEO data</a>."
   ]
  },
  {
   "cell_type": "code",
   "execution_count": 29,
   "metadata": {},
   "outputs": [],
   "source": [
    "#import libraries\n",
    "import pandas as pd\n",
    "from bs4 import BeautifulSoup\n",
    "import requests"
   ]
  },
  {
   "cell_type": "code",
   "execution_count": 30,
   "metadata": {},
   "outputs": [],
   "source": [
    "#target url\n",
    "url = \"https://sandeepmj.github.io/scrape-example-page/#organized\""
   ]
  },
  {
   "cell_type": "code",
   "execution_count": 31,
   "metadata": {},
   "outputs": [],
   "source": [
    "#response\n",
    "\n",
    "response = requests.get(url)"
   ]
  },
  {
   "cell_type": "code",
   "execution_count": 32,
   "metadata": {},
   "outputs": [],
   "source": [
    "#turn into soup\n",
    "soup = BeautifulSoup(response.text, \"html.parser\")"
   ]
  },
  {
   "cell_type": "code",
   "execution_count": 44,
   "metadata": {},
   "outputs": [
    {
     "data": {
      "text/plain": [
       "<section id=\"organized\">\n",
       "<h2>Organized - Top 5 Compensated CEOs in 2018</h2>\n",
       "<div class=\"ceo\">\n",
       "<p class=\"rank\">Rank: 1</p>\n",
       "<p class=\"name\">Name: Hock E. Tan</p>\n",
       "<p class=\"annual_compensation\">Annual Compensation: $103.2 million</p>\n",
       "<p class=\"company\">Company: Broadcom</p>\n",
       "</div>\n",
       "<div class=\"ceo\">\n",
       "<p class=\"rank\">Rank: 2</p>\n",
       "<p class=\"name\">Name: Frank Bisignano</p>\n",
       "<p class=\"annual_compensation\">Annual Compensation: $102.2 million</p>\n",
       "<p class=\"company\">Company: First Data (FDC)</p>\n",
       "</div>\n",
       "<div class=\"ceo\">\n",
       "<p class=\"rank\">Rank: 3</p>\n",
       "<p class=\"name\">Name: Michael Rapino</p>\n",
       "<p class=\"annual_compensation\">Annual Compensation: $70.6 million</p>\n",
       "<p class=\"company\">Company: Live Nation Entertainment (LYV)</p>\n",
       "</div>\n",
       "<div class=\"ceo\">\n",
       "<p class=\"rank\">Rank: 4</p>\n",
       "<p class=\"name\">Name: Leslie Moonves</p>\n",
       "<p class=\"annual_compensation\">Annual Compensation: 68.4 million</p>\n",
       "<p class=\"company\">Company: CBS</p>\n",
       "</div>\n",
       "<div class=\"ceo\">\n",
       "<p class=\"rank\">Rank: 5</p>\n",
       "<p class=\"name\">Name: Gregory Maffei</p>\n",
       "<p class=\"annual_compensation\">Annual Compensation: $67.2 million</p>\n",
       "<p class=\"company\">Company: Liberty Media &amp; Qurate Retail Group</p>\n",
       "</div>\n",
       "</section>"
      ]
     },
     "execution_count": 44,
     "metadata": {},
     "output_type": "execute_result"
    }
   ],
   "source": [
    "organized = soup.find(id=\"organized\")\n",
    "organized"
   ]
  },
  {
   "cell_type": "code",
   "execution_count": 45,
   "metadata": {},
   "outputs": [
    {
     "data": {
      "text/plain": [
       "bs4.element.Tag"
      ]
     },
     "execution_count": 45,
     "metadata": {},
     "output_type": "execute_result"
    }
   ],
   "source": [
    "type(organized)"
   ]
  },
  {
   "cell_type": "code",
   "execution_count": 62,
   "metadata": {},
   "outputs": [],
   "source": [
    "ceos = organized.find_all(\"div\", class_=\"ceo\")"
   ]
  },
  {
   "cell_type": "code",
   "execution_count": 63,
   "metadata": {},
   "outputs": [
    {
     "data": {
      "text/plain": [
       "5"
      ]
     },
     "execution_count": 63,
     "metadata": {},
     "output_type": "execute_result"
    }
   ],
   "source": [
    "len(ceos)"
   ]
  },
  {
   "cell_type": "code",
   "execution_count": 72,
   "metadata": {},
   "outputs": [
    {
     "data": {
      "text/plain": [
       "['Hock E. Tan',\n",
       " 'Frank Bisignano',\n",
       " 'Michael Rapino',\n",
       " 'Leslie Moonves',\n",
       " 'Gregory Maffei']"
      ]
     },
     "execution_count": 72,
     "metadata": {},
     "output_type": "execute_result"
    }
   ],
   "source": [
    "#find all the names using FL\n",
    "names_FL = []\n",
    "for ceo in ceos:\n",
    "    names_FL.append(ceo.find(\"p\", class_= \"name\").get_text().replace(\"Name: \",\"\"))\n",
    "\n",
    "names_FL"
   ]
  },
  {
   "cell_type": "code",
   "execution_count": 79,
   "metadata": {},
   "outputs": [
    {
     "data": {
      "text/plain": [
       "['Hock E. Tan',\n",
       " 'Frank Bisignano',\n",
       " 'Michael Rapino',\n",
       " 'Leslie Moonves',\n",
       " 'Gregory Maffei']"
      ]
     },
     "execution_count": 79,
     "metadata": {},
     "output_type": "execute_result"
    }
   ],
   "source": [
    "names_lc = [name.find(\"p\", class_=\"name\").get_text().replace(\"Name: \",\"\") for name in ceos]\n",
    "names_lc"
   ]
  },
  {
   "cell_type": "code",
   "execution_count": 91,
   "metadata": {},
   "outputs": [
    {
     "data": {
      "text/plain": [
       "['Broadcom',\n",
       " 'First Data (FDC)',\n",
       " 'Live Nation Entertainment (LYV)',\n",
       " 'CBS',\n",
       " 'Liberty Media & Qurate Retail Group']"
      ]
     },
     "execution_count": 91,
     "metadata": {},
     "output_type": "execute_result"
    }
   ],
   "source": [
    "companies_lc = [company.find(\"p\", class_=\"company\").get_text().replace(\"Company: \",\"\") for company in ceos]\n",
    "companies_lc"
   ]
  },
  {
   "cell_type": "code",
   "execution_count": 87,
   "metadata": {},
   "outputs": [
    {
     "data": {
      "text/plain": [
       "['$103.2 million',\n",
       " '$102.2 million',\n",
       " '$70.6 million',\n",
       " '68.4 million',\n",
       " '$67.2 million']"
      ]
     },
     "execution_count": 87,
     "metadata": {},
     "output_type": "execute_result"
    }
   ],
   "source": [
    "compensation_lc = [comp.find(\"p\", class_=\"annual_compensation\").get_text().replace(\"Annual Compensation: \",\"\") for comp in ceos]\n",
    "compensation_lc"
   ]
  },
  {
   "cell_type": "code",
   "execution_count": 95,
   "metadata": {},
   "outputs": [
    {
     "data": {
      "text/plain": [
       "[('Hock E. Tan', 'Broadcom', '$103.2 million'),\n",
       " ('Frank Bisignano', 'First Data (FDC)', '$102.2 million'),\n",
       " ('Michael Rapino', 'Live Nation Entertainment (LYV)', '$70.6 million'),\n",
       " ('Leslie Moonves', 'CBS', '68.4 million'),\n",
       " ('Gregory Maffei', 'Liberty Media & Qurate Retail Group', '$67.2 million')]"
      ]
     },
     "execution_count": 95,
     "metadata": {},
     "output_type": "execute_result"
    }
   ],
   "source": [
    "#ceo_list = []\n",
    "\n",
    "#for item in zip(names_lc, companies_lc, compensation_lc):\n",
    "#    ceo_list.append(item)\n",
    "    \n",
    "#ceo_list"
   ]
  },
  {
   "cell_type": "code",
   "execution_count": 111,
   "metadata": {},
   "outputs": [],
   "source": [
    "ceo_list = list(zip(names_lc, companies_lc, compensation_lc))"
   ]
  },
  {
   "cell_type": "code",
   "execution_count": 114,
   "metadata": {},
   "outputs": [
    {
     "data": {
      "text/html": [
       "<div>\n",
       "<style scoped>\n",
       "    .dataframe tbody tr th:only-of-type {\n",
       "        vertical-align: middle;\n",
       "    }\n",
       "\n",
       "    .dataframe tbody tr th {\n",
       "        vertical-align: top;\n",
       "    }\n",
       "\n",
       "    .dataframe thead th {\n",
       "        text-align: right;\n",
       "    }\n",
       "</style>\n",
       "<table border=\"1\" class=\"dataframe\">\n",
       "  <thead>\n",
       "    <tr style=\"text-align: right;\">\n",
       "      <th></th>\n",
       "      <th>Name</th>\n",
       "      <th>Company</th>\n",
       "      <th>Annual Compensation</th>\n",
       "    </tr>\n",
       "  </thead>\n",
       "  <tbody>\n",
       "    <tr>\n",
       "      <th>0</th>\n",
       "      <td>Hock E. Tan</td>\n",
       "      <td>Broadcom</td>\n",
       "      <td>$103.2 million</td>\n",
       "    </tr>\n",
       "    <tr>\n",
       "      <th>1</th>\n",
       "      <td>Frank Bisignano</td>\n",
       "      <td>First Data (FDC)</td>\n",
       "      <td>$102.2 million</td>\n",
       "    </tr>\n",
       "    <tr>\n",
       "      <th>2</th>\n",
       "      <td>Michael Rapino</td>\n",
       "      <td>Live Nation Entertainment (LYV)</td>\n",
       "      <td>$70.6 million</td>\n",
       "    </tr>\n",
       "    <tr>\n",
       "      <th>3</th>\n",
       "      <td>Leslie Moonves</td>\n",
       "      <td>CBS</td>\n",
       "      <td>68.4 million</td>\n",
       "    </tr>\n",
       "    <tr>\n",
       "      <th>4</th>\n",
       "      <td>Gregory Maffei</td>\n",
       "      <td>Liberty Media &amp; Qurate Retail Group</td>\n",
       "      <td>$67.2 million</td>\n",
       "    </tr>\n",
       "  </tbody>\n",
       "</table>\n",
       "</div>"
      ],
      "text/plain": [
       "              Name                              Company Annual Compensation\n",
       "0      Hock E. Tan                             Broadcom      $103.2 million\n",
       "1  Frank Bisignano                     First Data (FDC)      $102.2 million\n",
       "2   Michael Rapino      Live Nation Entertainment (LYV)       $70.6 million\n",
       "3   Leslie Moonves                                  CBS        68.4 million\n",
       "4   Gregory Maffei  Liberty Media & Qurate Retail Group       $67.2 million"
      ]
     },
     "execution_count": 114,
     "metadata": {},
     "output_type": "execute_result"
    }
   ],
   "source": [
    "df = pd.DataFrame(ceo_list, columns = [\"Name\", \"Company\", \"Annual Compensation\"])\n",
    "df"
   ]
  },
  {
   "cell_type": "code",
   "execution_count": 116,
   "metadata": {},
   "outputs": [
    {
     "data": {
      "text/plain": [
       "<div class=\"ceo\">\n",
       "<p class=\"rank\">Rank: 1</p>\n",
       "<p class=\"name\">Name: Hock E. Tan</p>\n",
       "<p class=\"annual_compensation\">Annual Compensation: $103.2 million</p>\n",
       "<p class=\"company\">Company: Broadcom</p>\n",
       "</div>"
      ]
     },
     "execution_count": 116,
     "metadata": {},
     "output_type": "execute_result"
    }
   ],
   "source": [
    "#What is you have tons of columns and you don't want to type them all out?\n",
    "ceos[0]"
   ]
  },
  {
   "cell_type": "code",
   "execution_count": null,
   "metadata": {},
   "outputs": [],
   "source": [
    "#in this html: <div class = some_class>\"This \" \n",
    "#div is a tag\n",
    "#class is an attribute\n",
    "#some_class holds a value"
   ]
  },
  {
   "cell_type": "code",
   "execution_count": 122,
   "metadata": {},
   "outputs": [
    {
     "data": {
      "text/plain": [
       "['ceo']"
      ]
     },
     "execution_count": 122,
     "metadata": {},
     "output_type": "execute_result"
    }
   ],
   "source": [
    "ceos[0][\"class\"]"
   ]
  },
  {
   "cell_type": "code",
   "execution_count": 120,
   "metadata": {},
   "outputs": [
    {
     "data": {
      "text/plain": [
       "[<p class=\"rank\">Rank: 1</p>,\n",
       " <p class=\"name\">Name: Hock E. Tan</p>,\n",
       " <p class=\"annual_compensation\">Annual Compensation: $103.2 million</p>,\n",
       " <p class=\"company\">Company: Broadcom</p>]"
      ]
     },
     "execution_count": 120,
     "metadata": {},
     "output_type": "execute_result"
    }
   ],
   "source": [
    "my_ptags = ceos[0].find_all(\"p\")\n",
    "my_ptags"
   ]
  },
  {
   "cell_type": "code",
   "execution_count": 123,
   "metadata": {},
   "outputs": [
    {
     "data": {
      "text/plain": [
       "['rank']"
      ]
     },
     "execution_count": 123,
     "metadata": {},
     "output_type": "execute_result"
    }
   ],
   "source": [
    "my_ptags[0][\"class\"]"
   ]
  },
  {
   "cell_type": "code",
   "execution_count": 131,
   "metadata": {},
   "outputs": [
    {
     "data": {
      "text/plain": [
       "['rank', 'name', 'annual_compensation', 'company']"
      ]
     },
     "execution_count": 131,
     "metadata": {},
     "output_type": "execute_result"
    }
   ],
   "source": [
    "col_names = []\n",
    "for ptag in my_ptags:\n",
    "#    print(ptag[\"class\"])\n",
    "    col_names.append(ptag[\"class\"][0])\n",
    "    \n",
    "col_names"
   ]
  },
  {
   "cell_type": "code",
   "execution_count": 137,
   "metadata": {},
   "outputs": [],
   "source": [
    "#updated_cols = ['name', 'annual_compensation', 'company']"
   ]
  },
  {
   "cell_type": "code",
   "execution_count": 138,
   "metadata": {},
   "outputs": [
    {
     "data": {
      "text/html": [
       "<div>\n",
       "<style scoped>\n",
       "    .dataframe tbody tr th:only-of-type {\n",
       "        vertical-align: middle;\n",
       "    }\n",
       "\n",
       "    .dataframe tbody tr th {\n",
       "        vertical-align: top;\n",
       "    }\n",
       "\n",
       "    .dataframe thead th {\n",
       "        text-align: right;\n",
       "    }\n",
       "</style>\n",
       "<table border=\"1\" class=\"dataframe\">\n",
       "  <thead>\n",
       "    <tr style=\"text-align: right;\">\n",
       "      <th></th>\n",
       "      <th>name</th>\n",
       "      <th>annual_compensation</th>\n",
       "      <th>company</th>\n",
       "    </tr>\n",
       "  </thead>\n",
       "  <tbody>\n",
       "    <tr>\n",
       "      <th>0</th>\n",
       "      <td>Hock E. Tan</td>\n",
       "      <td>Broadcom</td>\n",
       "      <td>$103.2 million</td>\n",
       "    </tr>\n",
       "    <tr>\n",
       "      <th>1</th>\n",
       "      <td>Frank Bisignano</td>\n",
       "      <td>First Data (FDC)</td>\n",
       "      <td>$102.2 million</td>\n",
       "    </tr>\n",
       "    <tr>\n",
       "      <th>2</th>\n",
       "      <td>Michael Rapino</td>\n",
       "      <td>Live Nation Entertainment (LYV)</td>\n",
       "      <td>$70.6 million</td>\n",
       "    </tr>\n",
       "    <tr>\n",
       "      <th>3</th>\n",
       "      <td>Leslie Moonves</td>\n",
       "      <td>CBS</td>\n",
       "      <td>68.4 million</td>\n",
       "    </tr>\n",
       "    <tr>\n",
       "      <th>4</th>\n",
       "      <td>Gregory Maffei</td>\n",
       "      <td>Liberty Media &amp; Qurate Retail Group</td>\n",
       "      <td>$67.2 million</td>\n",
       "    </tr>\n",
       "  </tbody>\n",
       "</table>\n",
       "</div>"
      ],
      "text/plain": [
       "              name                  annual_compensation         company\n",
       "0      Hock E. Tan                             Broadcom  $103.2 million\n",
       "1  Frank Bisignano                     First Data (FDC)  $102.2 million\n",
       "2   Michael Rapino      Live Nation Entertainment (LYV)   $70.6 million\n",
       "3   Leslie Moonves                                  CBS    68.4 million\n",
       "4   Gregory Maffei  Liberty Media & Qurate Retail Group   $67.2 million"
      ]
     },
     "execution_count": 138,
     "metadata": {},
     "output_type": "execute_result"
    }
   ],
   "source": [
    "#pd.DataFrame(ceo_list, columns = updated_cols)"
   ]
  },
  {
   "cell_type": "code",
   "execution_count": 141,
   "metadata": {},
   "outputs": [
    {
     "data": {
      "text/html": [
       "<div>\n",
       "<style scoped>\n",
       "    .dataframe tbody tr th:only-of-type {\n",
       "        vertical-align: middle;\n",
       "    }\n",
       "\n",
       "    .dataframe tbody tr th {\n",
       "        vertical-align: top;\n",
       "    }\n",
       "\n",
       "    .dataframe thead th {\n",
       "        text-align: right;\n",
       "    }\n",
       "</style>\n",
       "<table border=\"1\" class=\"dataframe\">\n",
       "  <thead>\n",
       "    <tr style=\"text-align: right;\">\n",
       "      <th></th>\n",
       "      <th>name</th>\n",
       "      <th>annual_compensation</th>\n",
       "      <th>company</th>\n",
       "    </tr>\n",
       "  </thead>\n",
       "  <tbody>\n",
       "    <tr>\n",
       "      <th>0</th>\n",
       "      <td>Hock E. Tan</td>\n",
       "      <td>Broadcom</td>\n",
       "      <td>$103.2 million</td>\n",
       "    </tr>\n",
       "    <tr>\n",
       "      <th>1</th>\n",
       "      <td>Frank Bisignano</td>\n",
       "      <td>First Data (FDC)</td>\n",
       "      <td>$102.2 million</td>\n",
       "    </tr>\n",
       "    <tr>\n",
       "      <th>2</th>\n",
       "      <td>Michael Rapino</td>\n",
       "      <td>Live Nation Entertainment (LYV)</td>\n",
       "      <td>$70.6 million</td>\n",
       "    </tr>\n",
       "    <tr>\n",
       "      <th>3</th>\n",
       "      <td>Leslie Moonves</td>\n",
       "      <td>CBS</td>\n",
       "      <td>68.4 million</td>\n",
       "    </tr>\n",
       "    <tr>\n",
       "      <th>4</th>\n",
       "      <td>Gregory Maffei</td>\n",
       "      <td>Liberty Media &amp; Qurate Retail Group</td>\n",
       "      <td>$67.2 million</td>\n",
       "    </tr>\n",
       "  </tbody>\n",
       "</table>\n",
       "</div>"
      ],
      "text/plain": [
       "              name                  annual_compensation         company\n",
       "0      Hock E. Tan                             Broadcom  $103.2 million\n",
       "1  Frank Bisignano                     First Data (FDC)  $102.2 million\n",
       "2   Michael Rapino      Live Nation Entertainment (LYV)   $70.6 million\n",
       "3   Leslie Moonves                                  CBS    68.4 million\n",
       "4   Gregory Maffei  Liberty Media & Qurate Retail Group   $67.2 million"
      ]
     },
     "execution_count": 141,
     "metadata": {},
     "output_type": "execute_result"
    }
   ],
   "source": [
    "pd.DataFrame(ceo_list, columns = col_names[1:4])"
   ]
  },
  {
   "cell_type": "code",
   "execution_count": 143,
   "metadata": {},
   "outputs": [],
   "source": [
    "#Let's scrape the disorganized section"
   ]
  },
  {
   "cell_type": "code",
   "execution_count": 147,
   "metadata": {},
   "outputs": [
    {
     "data": {
      "text/plain": [
       "<section id=\"disorganized\">\n",
       "<h2>Disorganized - Top 5 Compensated CEOs in 2018</h2>\n",
       "<div class=\"ceo\">\n",
       "<span>Rank:</span><dt> 1</dt>\n",
       "<span>Name:</span><dt> Hock E. Tan</dt>\n",
       "<span>Annual compensation:</span><dt> $103.2 million</dt>\n",
       "<span>Company:</span><dt> Broadcom</dt>\n",
       "</div>\n",
       "<div class=\"ceo\">\n",
       "<span>Rank: </span><dt> 2</dt>\n",
       "<span>Name:</span><dt> Frank Bisignano</dt>\n",
       "<span>Annual Compensation:</span><dt> $102.2 million</dt>\n",
       "<span>Company:</span><dt> First Data (FDC)</dt>\n",
       "</div>\n",
       "<div class=\"ceo\">\n",
       "<span>Rank: </span><dt> 3</dt>\n",
       "<span>Name:</span><dt> Michael Rapino</dt>\n",
       "<span>Annual Compensation:</span><dt> $70.6 million</dt>\n",
       "<span>Company:</span><dt> Live Nation Entertainment (LYV)</dt>\n",
       "</div>\n",
       "<div class=\"ceo\">\n",
       "<span>Rank: </span><dt> 4</dt>\n",
       "<span>Name:</span><dt> Leslie Moonves</dt>\n",
       "<span>Annual Compensation:</span><dt> 68.4 million</dt>\n",
       "<span>Company:</span><dt> CBS</dt>\n",
       "</div>\n",
       "<div class=\"ceo\">\n",
       "<span>Rank: </span><dt> 5</dt>\n",
       "<span>Name:</span> <dt> Gregory Maffei</dt>\n",
       "<span>Annual Compensation:</span><dt> $67.2 million</dt>\n",
       "<span>Company:</span><dt> Liberty Media &amp; Qurate Retail Group</dt>\n",
       "</div>\n",
       "</section>"
      ]
     },
     "execution_count": 147,
     "metadata": {},
     "output_type": "execute_result"
    }
   ],
   "source": [
    "target = soup.find(id = \"disorganized\")\n",
    "target"
   ]
  },
  {
   "cell_type": "code",
   "execution_count": 153,
   "metadata": {},
   "outputs": [
    {
     "data": {
      "text/plain": [
       "[<div class=\"ceo\">\n",
       " <span>Rank:</span><dt> 1</dt>\n",
       " <span>Name:</span><dt> Hock E. Tan</dt>\n",
       " <span>Annual compensation:</span><dt> $103.2 million</dt>\n",
       " <span>Company:</span><dt> Broadcom</dt>\n",
       " </div>,\n",
       " <div class=\"ceo\">\n",
       " <span>Rank: </span><dt> 2</dt>\n",
       " <span>Name:</span><dt> Frank Bisignano</dt>\n",
       " <span>Annual Compensation:</span><dt> $102.2 million</dt>\n",
       " <span>Company:</span><dt> First Data (FDC)</dt>\n",
       " </div>,\n",
       " <div class=\"ceo\">\n",
       " <span>Rank: </span><dt> 3</dt>\n",
       " <span>Name:</span><dt> Michael Rapino</dt>\n",
       " <span>Annual Compensation:</span><dt> $70.6 million</dt>\n",
       " <span>Company:</span><dt> Live Nation Entertainment (LYV)</dt>\n",
       " </div>,\n",
       " <div class=\"ceo\">\n",
       " <span>Rank: </span><dt> 4</dt>\n",
       " <span>Name:</span><dt> Leslie Moonves</dt>\n",
       " <span>Annual Compensation:</span><dt> 68.4 million</dt>\n",
       " <span>Company:</span><dt> CBS</dt>\n",
       " </div>,\n",
       " <div class=\"ceo\">\n",
       " <span>Rank: </span><dt> 5</dt>\n",
       " <span>Name:</span> <dt> Gregory Maffei</dt>\n",
       " <span>Annual Compensation:</span><dt> $67.2 million</dt>\n",
       " <span>Company:</span><dt> Liberty Media &amp; Qurate Retail Group</dt>\n",
       " </div>]"
      ]
     },
     "execution_count": 153,
     "metadata": {},
     "output_type": "execute_result"
    }
   ],
   "source": [
    "ceos = target.find_all(\"div\", class_=\"ceo\")\n",
    "ceos"
   ]
  },
  {
   "cell_type": "code",
   "execution_count": 161,
   "metadata": {},
   "outputs": [
    {
     "name": "stdout",
     "output_type": "stream",
     "text": [
      " Hock E. Tan\n",
      " Frank Bisignano\n",
      " Michael Rapino\n",
      " Leslie Moonves\n",
      " Gregory Maffei\n"
     ]
    }
   ],
   "source": [
    "for ceo in ceos:\n",
    "#    print(ceo)\n",
    "#    print(\"************\")\n",
    "    print(ceo.find_all(\"dt\")[1].get_text())"
   ]
  },
  {
   "cell_type": "code",
   "execution_count": 166,
   "metadata": {},
   "outputs": [
    {
     "name": "stdout",
     "output_type": "stream",
     "text": [
      " Broadcom\n",
      " First Data (FDC)\n",
      " Live Nation Entertainment (LYV)\n",
      " CBS\n",
      " Liberty Media & Qurate Retail Group\n"
     ]
    }
   ],
   "source": [
    "for ceo in ceos:\n",
    "    print(ceo.find_all(\"dt\")[3].get_text())"
   ]
  },
  {
   "cell_type": "code",
   "execution_count": 173,
   "metadata": {},
   "outputs": [
    {
     "name": "stdout",
     "output_type": "stream",
     "text": [
      "Data_CEO:[<dt> 1</dt>, <dt> Hock E. Tan</dt>, <dt> $103.2 million</dt>]\n",
      " 1\n",
      " Hock E. Tan\n",
      " $103.2 million\n",
      "Data_CEO:[<dt> 2</dt>, <dt> Frank Bisignano</dt>, <dt> $102.2 million</dt>]\n",
      " 2\n",
      " Frank Bisignano\n",
      " $102.2 million\n",
      "Data_CEO:[<dt> 3</dt>, <dt> Michael Rapino</dt>, <dt> $70.6 million</dt>]\n",
      " 3\n",
      " Michael Rapino\n",
      " $70.6 million\n",
      "Data_CEO:[<dt> 4</dt>, <dt> Leslie Moonves</dt>, <dt> 68.4 million</dt>]\n",
      " 4\n",
      " Leslie Moonves\n",
      " 68.4 million\n",
      "Data_CEO:[<dt> 5</dt>, <dt> Gregory Maffei</dt>, <dt> $67.2 million</dt>]\n",
      " 5\n",
      " Gregory Maffei\n",
      " $67.2 million\n"
     ]
    }
   ],
   "source": [
    "#for ceo in ceos:\n",
    "#    data_ceo = (ceo.find_all(\"dt\")[0:3])\n",
    "#    print(f\"Data_CEO:{data_ceo}\")\n",
    "#    for ceo in data_ceo:\n",
    "#       print(ceo.get_text())"
   ]
  },
  {
   "cell_type": "code",
   "execution_count": 191,
   "metadata": {},
   "outputs": [
    {
     "data": {
      "text/plain": [
       "[{'Rank': '1',\n",
       "  'Name:': 'Hock E. Tan',\n",
       "  'Annual Compensation': '$103.2 million',\n",
       "  'Company': 'Broadcom'},\n",
       " {'Rank': '2',\n",
       "  'Name:': 'Frank Bisignano',\n",
       "  'Annual Compensation': '$102.2 million',\n",
       "  'Company': 'First Data (FDC)'},\n",
       " {'Rank': '3',\n",
       "  'Name:': 'Michael Rapino',\n",
       "  'Annual Compensation': '$70.6 million',\n",
       "  'Company': 'Live Nation Entertainment (LYV)'},\n",
       " {'Rank': '4',\n",
       "  'Name:': 'Leslie Moonves',\n",
       "  'Annual Compensation': '68.4 million',\n",
       "  'Company': 'CBS'},\n",
       " {'Rank': '5',\n",
       "  'Name:': 'Gregory Maffei',\n",
       "  'Annual Compensation': '$67.2 million',\n",
       "  'Company': 'Liberty Media & Qurate Retail Group'}]"
      ]
     },
     "execution_count": 191,
     "metadata": {},
     "output_type": "execute_result"
    }
   ],
   "source": [
    "ceo_list = []\n",
    "for ceo in ceos:\n",
    "    all_targets = ceo.find_all(\"dt\")\n",
    "    rank = all_targets[0].get_text(strip=True)\n",
    "    name = all_targets[1].get_text(strip=True)\n",
    "    annual_comp = all_targets[2].get_text(strip=True)\n",
    "    company = all_targets[3].get_text(strip=True)\n",
    "    ceo_list.append({\"Rank\":rank, \"Name:\":name, \"Annual Compensation\":annual_comp, \"Company\":company})\n",
    "\n",
    "ceo_list"
   ]
  },
  {
   "cell_type": "markdown",
   "metadata": {
    "id": "YfF9k_35kQCS"
   },
   "source": [
    "### The same steps each time:\n",
    "\n",
    "* Is the content on the page (use ```Reveal Source```)?\n",
    "* Where and how is the content held on the page?\n",
    "* Which classes and IDs do we target?\n",
    "* Is there a pattern?\n",
    "* Is there anything that breaks the pattern?"
   ]
  },
  {
   "cell_type": "markdown",
   "metadata": {
    "id": "TTxmq3ZJkQCa"
   },
   "source": [
    "# Excluding classes\n",
    "\n",
    "Most modern sites have tags that include multiple classes.\n",
    "\n",
    "What if you want to target a tag with a single class but that class also appears in tags with others that holds other types of content.\n",
    "\n",
    "For example, capture ```Excluding Some Classes``` section of our page in ```BeautifulSoup``` object.\n",
    "\n"
   ]
  },
  {
   "cell_type": "code",
   "execution_count": 1,
   "metadata": {
    "id": "AnYKKYHFHNTi"
   },
   "outputs": [],
   "source": [
    "## RUN this cell that holds some html\n",
    "some_html = '''<li> Silly List </li>\n",
    "<li class=\"a\"> A alone  - UNWANTED </li>\n",
    "<li class=\"a z\"> A and Z  - UNWANTED </li>\n",
    "<li class=\"z\"> Z first - my target</li>\n",
    "<li class=\"b z\"> B and Z  - UNWANTED</li>\n",
    "<li class=\"x z\"> X and Z - UNWANTED </li>\n",
    "<li class=\"z\"> Z second - my target</li>'''\n",
    "\n"
   ]
  },
  {
   "cell_type": "markdown",
   "metadata": {
    "id": "GVXYAOG_HNTi"
   },
   "source": [
    "### Back to our CEOs"
   ]
  },
  {
   "cell_type": "code",
   "execution_count": null,
   "metadata": {},
   "outputs": [],
   "source": []
  }
 ],
 "metadata": {
  "celltoolbar": "Slideshow",
  "colab": {
   "provenance": []
  },
  "kernelspec": {
   "display_name": "Python 3 (ipykernel)",
   "language": "python",
   "name": "python3"
  },
  "language_info": {
   "codemirror_mode": {
    "name": "ipython",
    "version": 3
   },
   "file_extension": ".py",
   "mimetype": "text/x-python",
   "name": "python",
   "nbconvert_exporter": "python",
   "pygments_lexer": "ipython3",
   "version": "3.11.5"
  }
 },
 "nbformat": 4,
 "nbformat_minor": 1
}
