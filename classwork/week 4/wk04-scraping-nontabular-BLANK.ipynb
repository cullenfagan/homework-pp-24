{
 "cells": [
  {
   "cell_type": "markdown",
   "id": "58aed9e3",
   "metadata": {},
   "source": [
    "<img src=\"https://sandeepmj.github.io/image-host/green-scrapes.png\" >"
   ]
  },
  {
   "cell_type": "markdown",
   "id": "ce45f07b",
   "metadata": {},
   "source": [
    "# Scraping non-tabular content with ```BeautifulSoup```\n",
    "### We'll learn to some basic scraping techniques using this mock site <a href=\"https://sandeepmj.github.io/scrape-example-page/demo-text.html\">demo page</a>.\n"
   ]
  },
  {
   "cell_type": "code",
   "execution_count": 2,
   "id": "02291c65",
   "metadata": {},
   "outputs": [],
   "source": [
    "## create cells as necessary"
   ]
  },
  {
   "cell_type": "code",
   "execution_count": 3,
   "id": "5c01e31f",
   "metadata": {},
   "outputs": [],
   "source": [
    "#import library\n",
    "#what pulls down all the html from the server\n",
    "import requests"
   ]
  },
  {
   "cell_type": "code",
   "execution_count": 4,
   "id": "891b2909",
   "metadata": {},
   "outputs": [],
   "source": [
    "#requesting web content\n",
    "url = \"https://sandeepmj.github.io/scrape-example-page/demo-text.html\"\n",
    "#scrape url website\n",
    "response = requests.get(url)"
   ]
  },
  {
   "cell_type": "code",
   "execution_count": 6,
   "id": "0c1f052f",
   "metadata": {},
   "outputs": [
    {
     "data": {
      "text/plain": [
       "200"
      ]
     },
     "execution_count": 6,
     "metadata": {},
     "output_type": "execute_result"
    }
   ],
   "source": [
    "response.status_code"
   ]
  },
  {
   "cell_type": "code",
   "execution_count": 11,
   "id": "9b3def18",
   "metadata": {},
   "outputs": [
    {
     "data": {
      "text/plain": [
       "requests.models.Response"
      ]
     },
     "execution_count": 11,
     "metadata": {},
     "output_type": "execute_result"
    }
   ],
   "source": [
    "#what type of object did we capture\n",
    "type(response)"
   ]
  },
  {
   "cell_type": "code",
   "execution_count": 12,
   "id": "9249c851",
   "metadata": {},
   "outputs": [
    {
     "data": {
      "text/plain": [
       "<Response [200]>"
      ]
     },
     "execution_count": 12,
     "metadata": {},
     "output_type": "execute_result"
    }
   ],
   "source": [
    "response"
   ]
  },
  {
   "cell_type": "code",
   "execution_count": 13,
   "id": "73ea1855",
   "metadata": {},
   "outputs": [],
   "source": [
    "#Response codes: when you scrape hundred of pages there's a chance that one of the URLS might be a dud\n",
    "#we can set up a error control to see what kind of responses we get\n",
    "# <Response 200> means website is accesible\n",
    "# <Response 300> your request is being redirected\n",
    "# <Response 403> your request was received but declined\n",
    "# <Response 404> means broken link or page with no content\n",
    "# <Response 500> means your request encountered some generic server error"
   ]
  },
  {
   "cell_type": "code",
   "execution_count": 15,
   "id": "c124d42b",
   "metadata": {},
   "outputs": [
    {
     "data": {
      "text/plain": [
       "'<!doctype html>\\n<html lang=\"en\">\\n<head>\\n\\t<title>title tag</title>\\n\\t<style>\\nbody {padding: 20px; max-width: 700px; margin: 0 auto;}\\n</style>\\n</head>\\n\\n<body>\\n\\t<h1 class=\"title\"><b>The title headline is Demo for BeautifulSoup</b></p></h1>\\n\\t<p>Learning to scrape using BeautifulSoup.</p>\\n\\t<div class=\"content article\">\\n\\t\\t<section>\\n\\t\\t<p>Here\\'s some pretty useless info:</p>\\n\\t</section>\\n\\t\\t<section class=\"main\" id=\"all_plants\">\\n\\t\\t\\t<h2 class=\"subhead\" id=\"vegitation\">Plants</h2>\\n\\t\\t\\t<p class=\"article\">Three plants that thrive in deep shade:</p>\\n\\t\\t\\t<ol>\\n\\t\\t\\t\\t<li><a href=\"http://example.com/plant1\" class=\"plants life\" id=\"plant1\">Plant 1</a>: <span class=\"cost\">$10</span></li>\\n\\t\\t\\t\\t<li><a href=\"http://example.com/plant2\" class=\"plants life\" id=\"plant2\">Plant 2</a>: <span class=\"cost\">$20</span></li>\\n\\t\\t\\t\\t<li><a href=\"http://example.com/plant3\" class=\"plants life\" id=\"plant3\">Plant 3</a> <span class=\"cost\">$30</span></li>\\n\\t\\t\\t</ol>\\n\\t\\t</section>\\n\\n\\t\\t<section class=\"main\" id=\"all_animals\">\\n\\t\\t\\t<h2 class=\"subhead\" id=\"creatures\">Animals</h2>\\n\\n\\t\\t\\t<p class=\"article\"> Three animals in the barn:</p>\\n\\t\\t\\t<ol>\\n\\t\\t\\t\\t<li><a href=\"http://example.com/animal1\" class=\"animals life\" id=\"animal1\">Animal 1</a>: <span class=\"cost\">$500</span></li>\\n\\t\\t\\t\\t<li><a href=\"http://example.com/animal2\" class=\"animals life\" id=\"animal2\">Animal 2</a>: <span class=\"cost\">$600</span> </li>\\n\\t\\t\\t\\t<li><a href=\"http://example.com/animal3\" class=\"animals life\" id=\"animal3\">Animal 3</a>: <span class=\"cost\">$700</span></li>\\n\\t\\t\\t</ol>\\n\\t\\t</section>\\n\\t\\t<section>\\n\\t\\t\\t<h2 class=\"subhead\" id=\"objects\">Objects</h2>\\n\\t\\t\\t<p class=\"article\"> Three shiny rocks:</p>\\n\\t\\t\\t<ol>\\n\\t\\t\\t\\t<li><a href=\"http://example.com/rock1\" class=\"rock inanimate\" id=\"rock1\"><span>Rock 1</span></a></li>\\n\\t\\t\\t\\t<li><a href=\"http://example.com/rock2\" class=\"rock inanimate\" id=\"rock2\"><span>Rock 2</span></a></li>\\n\\t\\t\\t\\t<li><a href=\"http://example.com/rock2\" class=\"rock inanimate\" id=\"rock3\"><span>Rock 3</span></a></li>\\n\\t\\t\\t</ol>\\n\\t\\t</section>\\n\\t\\t<section>\\n\\t\\t\\t<h2>The seven classifications of animals</h2>\\n\\t\\t\\t<ul>\\n\\t\\t\\t\\t<li><a class=\"animals\" href=\"http://example.com/kingdom\" >Kingdom</a></li>\\n\\t\\t\\t\\t<li><a class=\"animals\" href=\"http://example.com/phylum\" >Phylum</a></li>\\n\\t\\t\\t\\t<li><a class=\"animals\" href=\"http://example.com/class\" >Class</a></li>\\n\\t\\t\\t\\t<li><a class=\"animals\" href=\"http://example.com/order\" >Order</a></li>\\n\\t\\t\\t\\t<li><a class=\"animals\" href=\"http://example.com/family\" >Family</a></li>\\n\\t\\t\\t\\t<li><a class=\"animals\" href=\"http://example.com/genus\" >Genus</a></li>\\n\\t\\t\\t\\t<li><a class=\"animals\" href=\"http://example.com/species\" >Species</a></li>\\n\\t\\t\\t</ul>\\n\\t\\t</section>\\n\\t</div>\\n</body>\\n</html>\\n'"
      ]
     },
     "execution_count": 15,
     "metadata": {},
     "output_type": "execute_result"
    }
   ],
   "source": [
    "#see response.text object\n",
    "response.text"
   ]
  },
  {
   "cell_type": "code",
   "execution_count": 16,
   "id": "83f2eb4c",
   "metadata": {},
   "outputs": [
    {
     "data": {
      "text/plain": [
       "str"
      ]
     },
     "execution_count": 16,
     "metadata": {},
     "output_type": "execute_result"
    }
   ],
   "source": [
    "type(response.text)"
   ]
  },
  {
   "cell_type": "code",
   "execution_count": 18,
   "id": "8a75a30e",
   "metadata": {},
   "outputs": [
    {
     "data": {
      "text/plain": [
       "bytes"
      ]
     },
     "execution_count": 18,
     "metadata": {},
     "output_type": "execute_result"
    }
   ],
   "source": [
    "#what object does response.content return?\n",
    "type(response.content)"
   ]
  },
  {
   "cell_type": "code",
   "execution_count": null,
   "id": "7d35a9b6",
   "metadata": {},
   "outputs": [],
   "source": [
    "#introducing \"beautiful soup\"\n",
    "#takes strings and turns them back into traversable, hierarchical data aka something that python can understand\n",
    "#create a beautiful soup object:\n"
   ]
  },
  {
   "cell_type": "code",
   "execution_count": 19,
   "id": "fa1b4ad9",
   "metadata": {},
   "outputs": [],
   "source": [
    "#import beautiful soup\n",
    "from bs4 import BeautifulSoup"
   ]
  },
  {
   "cell_type": "code",
   "execution_count": 20,
   "id": "163bc3b6",
   "metadata": {},
   "outputs": [],
   "source": [
    "#we add the name of our file \n",
    "soup = BeautifulSoup(response.text, \"html.parser\")"
   ]
  },
  {
   "cell_type": "code",
   "execution_count": 22,
   "id": "2df28cbc",
   "metadata": {},
   "outputs": [
    {
     "name": "stdout",
     "output_type": "stream",
     "text": [
      "<!DOCTYPE html>\n",
      "\n",
      "<html lang=\"en\">\n",
      "<head>\n",
      "<title>title tag</title>\n",
      "<style>\n",
      "body {padding: 20px; max-width: 700px; margin: 0 auto;}\n",
      "</style>\n",
      "</head>\n",
      "<body>\n",
      "<h1 class=\"title\"><b>The title headline is Demo for BeautifulSoup</b></h1>\n",
      "<p>Learning to scrape using BeautifulSoup.</p>\n",
      "<div class=\"content article\">\n",
      "<section>\n",
      "<p>Here's some pretty useless info:</p>\n",
      "</section>\n",
      "<section class=\"main\" id=\"all_plants\">\n",
      "<h2 class=\"subhead\" id=\"vegitation\">Plants</h2>\n",
      "<p class=\"article\">Three plants that thrive in deep shade:</p>\n",
      "<ol>\n",
      "<li><a class=\"plants life\" href=\"http://example.com/plant1\" id=\"plant1\">Plant 1</a>: <span class=\"cost\">$10</span></li>\n",
      "<li><a class=\"plants life\" href=\"http://example.com/plant2\" id=\"plant2\">Plant 2</a>: <span class=\"cost\">$20</span></li>\n",
      "<li><a class=\"plants life\" href=\"http://example.com/plant3\" id=\"plant3\">Plant 3</a> <span class=\"cost\">$30</span></li>\n",
      "</ol>\n",
      "</section>\n",
      "<section class=\"main\" id=\"all_animals\">\n",
      "<h2 class=\"subhead\" id=\"creatures\">Animals</h2>\n",
      "<p class=\"article\"> Three animals in the barn:</p>\n",
      "<ol>\n",
      "<li><a class=\"animals life\" href=\"http://example.com/animal1\" id=\"animal1\">Animal 1</a>: <span class=\"cost\">$500</span></li>\n",
      "<li><a class=\"animals life\" href=\"http://example.com/animal2\" id=\"animal2\">Animal 2</a>: <span class=\"cost\">$600</span> </li>\n",
      "<li><a class=\"animals life\" href=\"http://example.com/animal3\" id=\"animal3\">Animal 3</a>: <span class=\"cost\">$700</span></li>\n",
      "</ol>\n",
      "</section>\n",
      "<section>\n",
      "<h2 class=\"subhead\" id=\"objects\">Objects</h2>\n",
      "<p class=\"article\"> Three shiny rocks:</p>\n",
      "<ol>\n",
      "<li><a class=\"rock inanimate\" href=\"http://example.com/rock1\" id=\"rock1\"><span>Rock 1</span></a></li>\n",
      "<li><a class=\"rock inanimate\" href=\"http://example.com/rock2\" id=\"rock2\"><span>Rock 2</span></a></li>\n",
      "<li><a class=\"rock inanimate\" href=\"http://example.com/rock2\" id=\"rock3\"><span>Rock 3</span></a></li>\n",
      "</ol>\n",
      "</section>\n",
      "<section>\n",
      "<h2>The seven classifications of animals</h2>\n",
      "<ul>\n",
      "<li><a class=\"animals\" href=\"http://example.com/kingdom\">Kingdom</a></li>\n",
      "<li><a class=\"animals\" href=\"http://example.com/phylum\">Phylum</a></li>\n",
      "<li><a class=\"animals\" href=\"http://example.com/class\">Class</a></li>\n",
      "<li><a class=\"animals\" href=\"http://example.com/order\">Order</a></li>\n",
      "<li><a class=\"animals\" href=\"http://example.com/family\">Family</a></li>\n",
      "<li><a class=\"animals\" href=\"http://example.com/genus\">Genus</a></li>\n",
      "<li><a class=\"animals\" href=\"http://example.com/species\">Species</a></li>\n",
      "</ul>\n",
      "</section>\n",
      "</div>\n",
      "</body>\n",
      "</html>\n",
      "\n"
     ]
    }
   ],
   "source": [
    "print(soup)"
   ]
  },
  {
   "cell_type": "code",
   "execution_count": 23,
   "id": "34a8a109",
   "metadata": {},
   "outputs": [
    {
     "name": "stdout",
     "output_type": "stream",
     "text": [
      "<!DOCTYPE html>\n",
      "<html lang=\"en\">\n",
      " <head>\n",
      "  <title>\n",
      "   title tag\n",
      "  </title>\n",
      "  <style>\n",
      "   body {padding: 20px; max-width: 700px; margin: 0 auto;}\n",
      "  </style>\n",
      " </head>\n",
      " <body>\n",
      "  <h1 class=\"title\">\n",
      "   <b>\n",
      "    The title headline is Demo for BeautifulSoup\n",
      "   </b>\n",
      "  </h1>\n",
      "  <p>\n",
      "   Learning to scrape using BeautifulSoup.\n",
      "  </p>\n",
      "  <div class=\"content article\">\n",
      "   <section>\n",
      "    <p>\n",
      "     Here's some pretty useless info:\n",
      "    </p>\n",
      "   </section>\n",
      "   <section class=\"main\" id=\"all_plants\">\n",
      "    <h2 class=\"subhead\" id=\"vegitation\">\n",
      "     Plants\n",
      "    </h2>\n",
      "    <p class=\"article\">\n",
      "     Three plants that thrive in deep shade:\n",
      "    </p>\n",
      "    <ol>\n",
      "     <li>\n",
      "      <a class=\"plants life\" href=\"http://example.com/plant1\" id=\"plant1\">\n",
      "       Plant 1\n",
      "      </a>\n",
      "      :\n",
      "      <span class=\"cost\">\n",
      "       $10\n",
      "      </span>\n",
      "     </li>\n",
      "     <li>\n",
      "      <a class=\"plants life\" href=\"http://example.com/plant2\" id=\"plant2\">\n",
      "       Plant 2\n",
      "      </a>\n",
      "      :\n",
      "      <span class=\"cost\">\n",
      "       $20\n",
      "      </span>\n",
      "     </li>\n",
      "     <li>\n",
      "      <a class=\"plants life\" href=\"http://example.com/plant3\" id=\"plant3\">\n",
      "       Plant 3\n",
      "      </a>\n",
      "      <span class=\"cost\">\n",
      "       $30\n",
      "      </span>\n",
      "     </li>\n",
      "    </ol>\n",
      "   </section>\n",
      "   <section class=\"main\" id=\"all_animals\">\n",
      "    <h2 class=\"subhead\" id=\"creatures\">\n",
      "     Animals\n",
      "    </h2>\n",
      "    <p class=\"article\">\n",
      "     Three animals in the barn:\n",
      "    </p>\n",
      "    <ol>\n",
      "     <li>\n",
      "      <a class=\"animals life\" href=\"http://example.com/animal1\" id=\"animal1\">\n",
      "       Animal 1\n",
      "      </a>\n",
      "      :\n",
      "      <span class=\"cost\">\n",
      "       $500\n",
      "      </span>\n",
      "     </li>\n",
      "     <li>\n",
      "      <a class=\"animals life\" href=\"http://example.com/animal2\" id=\"animal2\">\n",
      "       Animal 2\n",
      "      </a>\n",
      "      :\n",
      "      <span class=\"cost\">\n",
      "       $600\n",
      "      </span>\n",
      "     </li>\n",
      "     <li>\n",
      "      <a class=\"animals life\" href=\"http://example.com/animal3\" id=\"animal3\">\n",
      "       Animal 3\n",
      "      </a>\n",
      "      :\n",
      "      <span class=\"cost\">\n",
      "       $700\n",
      "      </span>\n",
      "     </li>\n",
      "    </ol>\n",
      "   </section>\n",
      "   <section>\n",
      "    <h2 class=\"subhead\" id=\"objects\">\n",
      "     Objects\n",
      "    </h2>\n",
      "    <p class=\"article\">\n",
      "     Three shiny rocks:\n",
      "    </p>\n",
      "    <ol>\n",
      "     <li>\n",
      "      <a class=\"rock inanimate\" href=\"http://example.com/rock1\" id=\"rock1\">\n",
      "       <span>\n",
      "        Rock 1\n",
      "       </span>\n",
      "      </a>\n",
      "     </li>\n",
      "     <li>\n",
      "      <a class=\"rock inanimate\" href=\"http://example.com/rock2\" id=\"rock2\">\n",
      "       <span>\n",
      "        Rock 2\n",
      "       </span>\n",
      "      </a>\n",
      "     </li>\n",
      "     <li>\n",
      "      <a class=\"rock inanimate\" href=\"http://example.com/rock2\" id=\"rock3\">\n",
      "       <span>\n",
      "        Rock 3\n",
      "       </span>\n",
      "      </a>\n",
      "     </li>\n",
      "    </ol>\n",
      "   </section>\n",
      "   <section>\n",
      "    <h2>\n",
      "     The seven classifications of animals\n",
      "    </h2>\n",
      "    <ul>\n",
      "     <li>\n",
      "      <a class=\"animals\" href=\"http://example.com/kingdom\">\n",
      "       Kingdom\n",
      "      </a>\n",
      "     </li>\n",
      "     <li>\n",
      "      <a class=\"animals\" href=\"http://example.com/phylum\">\n",
      "       Phylum\n",
      "      </a>\n",
      "     </li>\n",
      "     <li>\n",
      "      <a class=\"animals\" href=\"http://example.com/class\">\n",
      "       Class\n",
      "      </a>\n",
      "     </li>\n",
      "     <li>\n",
      "      <a class=\"animals\" href=\"http://example.com/order\">\n",
      "       Order\n",
      "      </a>\n",
      "     </li>\n",
      "     <li>\n",
      "      <a class=\"animals\" href=\"http://example.com/family\">\n",
      "       Family\n",
      "      </a>\n",
      "     </li>\n",
      "     <li>\n",
      "      <a class=\"animals\" href=\"http://example.com/genus\">\n",
      "       Genus\n",
      "      </a>\n",
      "     </li>\n",
      "     <li>\n",
      "      <a class=\"animals\" href=\"http://example.com/species\">\n",
      "       Species\n",
      "      </a>\n",
      "     </li>\n",
      "    </ul>\n",
      "   </section>\n",
      "  </div>\n",
      " </body>\n",
      "</html>\n",
      "\n"
     ]
    }
   ],
   "source": [
    "#prettify our printout\n",
    "print(soup.prettify())"
   ]
  },
  {
   "cell_type": "code",
   "execution_count": 24,
   "id": "6ed2fefc",
   "metadata": {},
   "outputs": [
    {
     "data": {
      "text/plain": [
       "bs4.BeautifulSoup"
      ]
     },
     "execution_count": 24,
     "metadata": {},
     "output_type": "execute_result"
    }
   ],
   "source": [
    "#what type of file is it?\n",
    "type(soup)"
   ]
  },
  {
   "cell_type": "code",
   "execution_count": null,
   "id": "e754a11a",
   "metadata": {},
   "outputs": [],
   "source": [
    "#Targeting Content:\n",
    "#HTML Tags"
   ]
  },
  {
   "cell_type": "code",
   "execution_count": 25,
   "id": "5ab4d992",
   "metadata": {},
   "outputs": [
    {
     "data": {
      "text/plain": [
       "<title>title tag</title>"
      ]
     },
     "execution_count": 25,
     "metadata": {},
     "output_type": "execute_result"
    }
   ],
   "source": [
    "#get title of page\n",
    "soup.title"
   ]
  },
  {
   "cell_type": "code",
   "execution_count": 29,
   "id": "cd1b13ff",
   "metadata": {},
   "outputs": [
    {
     "data": {
      "text/plain": [
       "<h2 class=\"subhead\" id=\"vegitation\">Plants</h2>"
      ]
     },
     "execution_count": 29,
     "metadata": {},
     "output_type": "execute_result"
    }
   ],
   "source": [
    "#what about headlines if there's more than one of a tag\n",
    "#it only returns the first one\n",
    "soup.h2"
   ]
  },
  {
   "cell_type": "code",
   "execution_count": 30,
   "id": "c6ccfbc1",
   "metadata": {},
   "outputs": [
    {
     "data": {
      "text/plain": [
       "[<a class=\"animals life\" href=\"http://example.com/animal1\" id=\"animal1\">Animal 1</a>]"
      ]
     },
     "execution_count": 30,
     "metadata": {},
     "output_type": "execute_result"
    }
   ],
   "source": [
    "#Searching for IDs\n",
    "#search by id for \"animal1\"\n",
    "soup(id=\"animal1\")"
   ]
  },
  {
   "cell_type": "code",
   "execution_count": 31,
   "id": "30d7fa8d",
   "metadata": {},
   "outputs": [
    {
     "data": {
      "text/plain": [
       "<p>Learning to scrape using BeautifulSoup.</p>"
      ]
     },
     "execution_count": 31,
     "metadata": {},
     "output_type": "execute_result"
    }
   ],
   "source": [
    "#finding class\n",
    "#a wide net is not the best\n",
    "soup.p"
   ]
  },
  {
   "cell_type": "code",
   "execution_count": 32,
   "id": "0e6ec497",
   "metadata": {},
   "outputs": [
    {
     "data": {
      "text/plain": [
       "<p>Learning to scrape using BeautifulSoup.</p>"
      ]
     },
     "execution_count": 32,
     "metadata": {},
     "output_type": "execute_result"
    }
   ],
   "source": [
    "#method 1 - target the tag onlun\n",
    "#simple but w/o precision\n",
    "soup.find(\"p\")"
   ]
  },
  {
   "cell_type": "code",
   "execution_count": 33,
   "id": "37b5d015",
   "metadata": {},
   "outputs": [
    {
     "data": {
      "text/plain": [
       "<div class=\"content article\">\n",
       "<section>\n",
       "<p>Here's some pretty useless info:</p>\n",
       "</section>\n",
       "<section class=\"main\" id=\"all_plants\">\n",
       "<h2 class=\"subhead\" id=\"vegitation\">Plants</h2>\n",
       "<p class=\"article\">Three plants that thrive in deep shade:</p>\n",
       "<ol>\n",
       "<li><a class=\"plants life\" href=\"http://example.com/plant1\" id=\"plant1\">Plant 1</a>: <span class=\"cost\">$10</span></li>\n",
       "<li><a class=\"plants life\" href=\"http://example.com/plant2\" id=\"plant2\">Plant 2</a>: <span class=\"cost\">$20</span></li>\n",
       "<li><a class=\"plants life\" href=\"http://example.com/plant3\" id=\"plant3\">Plant 3</a> <span class=\"cost\">$30</span></li>\n",
       "</ol>\n",
       "</section>\n",
       "<section class=\"main\" id=\"all_animals\">\n",
       "<h2 class=\"subhead\" id=\"creatures\">Animals</h2>\n",
       "<p class=\"article\"> Three animals in the barn:</p>\n",
       "<ol>\n",
       "<li><a class=\"animals life\" href=\"http://example.com/animal1\" id=\"animal1\">Animal 1</a>: <span class=\"cost\">$500</span></li>\n",
       "<li><a class=\"animals life\" href=\"http://example.com/animal2\" id=\"animal2\">Animal 2</a>: <span class=\"cost\">$600</span> </li>\n",
       "<li><a class=\"animals life\" href=\"http://example.com/animal3\" id=\"animal3\">Animal 3</a>: <span class=\"cost\">$700</span></li>\n",
       "</ol>\n",
       "</section>\n",
       "<section>\n",
       "<h2 class=\"subhead\" id=\"objects\">Objects</h2>\n",
       "<p class=\"article\"> Three shiny rocks:</p>\n",
       "<ol>\n",
       "<li><a class=\"rock inanimate\" href=\"http://example.com/rock1\" id=\"rock1\"><span>Rock 1</span></a></li>\n",
       "<li><a class=\"rock inanimate\" href=\"http://example.com/rock2\" id=\"rock2\"><span>Rock 2</span></a></li>\n",
       "<li><a class=\"rock inanimate\" href=\"http://example.com/rock2\" id=\"rock3\"><span>Rock 3</span></a></li>\n",
       "</ol>\n",
       "</section>\n",
       "<section>\n",
       "<h2>The seven classifications of animals</h2>\n",
       "<ul>\n",
       "<li><a class=\"animals\" href=\"http://example.com/kingdom\">Kingdom</a></li>\n",
       "<li><a class=\"animals\" href=\"http://example.com/phylum\">Phylum</a></li>\n",
       "<li><a class=\"animals\" href=\"http://example.com/class\">Class</a></li>\n",
       "<li><a class=\"animals\" href=\"http://example.com/order\">Order</a></li>\n",
       "<li><a class=\"animals\" href=\"http://example.com/family\">Family</a></li>\n",
       "<li><a class=\"animals\" href=\"http://example.com/genus\">Genus</a></li>\n",
       "<li><a class=\"animals\" href=\"http://example.com/species\">Species</a></li>\n",
       "</ul>\n",
       "</section>\n",
       "</div>"
      ]
     },
     "execution_count": 33,
     "metadata": {},
     "output_type": "execute_result"
    }
   ],
   "source": [
    "#method 2 - target the class only\n",
    "soup.find(class_=\"article\")"
   ]
  },
  {
   "cell_type": "code",
   "execution_count": 34,
   "id": "a45c060d",
   "metadata": {},
   "outputs": [
    {
     "data": {
      "text/plain": [
       "<p class=\"article\">Three plants that thrive in deep shade:</p>"
      ]
     },
     "execution_count": 34,
     "metadata": {},
     "output_type": "execute_result"
    }
   ],
   "source": [
    "soup.find(\"p\", class_=\"article\")"
   ]
  },
  {
   "cell_type": "code",
   "execution_count": 42,
   "id": "c51b1f41",
   "metadata": {},
   "outputs": [],
   "source": [
    "#find all tags, classes\n",
    "soup.find_all(\"p\", class_=\"article\")"
   ]
  },
  {
   "cell_type": "code",
   "execution_count": 43,
   "id": "b636657e",
   "metadata": {},
   "outputs": [
    {
     "data": {
      "text/plain": [
       "bs4.element.ResultSet"
      ]
     },
     "execution_count": 43,
     "metadata": {},
     "output_type": "execute_result"
    }
   ],
   "source": [
    "type(soup.find(\"p\", class_=\"article\"))"
   ]
  },
  {
   "cell_type": "code",
   "execution_count": 44,
   "id": "be1bd46a",
   "metadata": {},
   "outputs": [
    {
     "data": {
      "text/plain": [
       "3"
      ]
     },
     "execution_count": 44,
     "metadata": {},
     "output_type": "execute_result"
    }
   ],
   "source": [
    "len((soup.find(\"p\", class_=\"article\"))"
   ]
  },
  {
   "cell_type": "code",
   "execution_count": 38,
   "id": "72ef3a7a",
   "metadata": {},
   "outputs": [],
   "source": [
    "#capture class article\n",
    "the_articles = soup.find_all(\"p\", class_=\"article\")"
   ]
  },
  {
   "cell_type": "code",
   "execution_count": 45,
   "id": "80e07392",
   "metadata": {},
   "outputs": [
    {
     "data": {
      "text/plain": [
       "<p class=\"article\">Three plants that thrive in deep shade:</p>"
      ]
     },
     "execution_count": 45,
     "metadata": {},
     "output_type": "execute_result"
    }
   ],
   "source": [
    "the_articles[0]"
   ]
  },
  {
   "cell_type": "code",
   "execution_count": 46,
   "id": "aac1099a",
   "metadata": {},
   "outputs": [
    {
     "data": {
      "text/plain": [
       "bs4.element.Tag"
      ]
     },
     "execution_count": 46,
     "metadata": {},
     "output_type": "execute_result"
    }
   ],
   "source": [
    "type(the_articles[0])"
   ]
  },
  {
   "cell_type": "code",
   "execution_count": 47,
   "id": "6152fcc6",
   "metadata": {},
   "outputs": [],
   "source": [
    "soup.find_all(\"a\",class_=\"life\")\n",
    "lifeforms = soup.find_all(\"a\",class_=\"life\")"
   ]
  },
  {
   "cell_type": "code",
   "execution_count": 48,
   "id": "57073f4c",
   "metadata": {},
   "outputs": [
    {
     "data": {
      "text/plain": [
       "[<a class=\"plants life\" href=\"http://example.com/plant1\" id=\"plant1\">Plant 1</a>,\n",
       " <a class=\"plants life\" href=\"http://example.com/plant2\" id=\"plant2\">Plant 2</a>,\n",
       " <a class=\"plants life\" href=\"http://example.com/plant3\" id=\"plant3\">Plant 3</a>,\n",
       " <a class=\"animals life\" href=\"http://example.com/animal1\" id=\"animal1\">Animal 1</a>,\n",
       " <a class=\"animals life\" href=\"http://example.com/animal2\" id=\"animal2\">Animal 2</a>,\n",
       " <a class=\"animals life\" href=\"http://example.com/animal3\" id=\"animal3\">Animal 3</a>]"
      ]
     },
     "execution_count": 48,
     "metadata": {},
     "output_type": "execute_result"
    }
   ],
   "source": [
    "lifeforms"
   ]
  },
  {
   "cell_type": "code",
   "execution_count": 50,
   "id": "9f476b7b",
   "metadata": {},
   "outputs": [
    {
     "name": "stdout",
     "output_type": "stream",
     "text": [
      "Plant 1\n",
      "*****\n",
      "Plant 2\n",
      "*****\n",
      "Plant 3\n",
      "*****\n",
      "Animal 1\n",
      "*****\n",
      "Animal 2\n",
      "*****\n",
      "Animal 3\n",
      "*****\n"
     ]
    }
   ],
   "source": [
    "for life in lifeforms: \n",
    "    print(life.get_text())\n",
    "    print(\"*****\")"
   ]
  },
  {
   "cell_type": "code",
   "execution_count": 60,
   "id": "e6515ffa",
   "metadata": {},
   "outputs": [
    {
     "name": "stdout",
     "output_type": "stream",
     "text": [
      "<class 'bs4.element.Tag'>\n",
      "<class 'str'>\n",
      "<class 'bs4.element.Tag'>\n",
      "<class 'str'>\n",
      "<class 'bs4.element.Tag'>\n",
      "<class 'str'>\n",
      "<class 'bs4.element.Tag'>\n",
      "<class 'str'>\n",
      "<class 'bs4.element.Tag'>\n",
      "<class 'str'>\n",
      "<class 'bs4.element.Tag'>\n",
      "<class 'str'>\n"
     ]
    },
    {
     "data": {
      "text/plain": [
       "['Plant 1',\n",
       " 'Plant 1',\n",
       " 'Plant 2',\n",
       " 'Plant 2',\n",
       " 'Plant 3',\n",
       " 'Plant 3',\n",
       " 'Animal 1',\n",
       " 'Animal 1',\n",
       " 'Animal 2',\n",
       " 'Animal 2',\n",
       " 'Animal 3',\n",
       " 'Animal 3']"
      ]
     },
     "execution_count": 60,
     "metadata": {},
     "output_type": "execute_result"
    }
   ],
   "source": [
    "#store text only into a list called lifeforms_fl\n",
    "lifeforms_fl = []\n",
    "for life in lifeforms:\n",
    "    print(type(life))\n",
    "    life = life.get_text()\n",
    "    lifeforms_fl.append(life)\n",
    "    print(type(life))\n",
    "    lifeforms_fl.append(life)\n",
    "    \n",
    "lifeforms_fl"
   ]
  },
  {
   "cell_type": "code",
   "execution_count": 58,
   "id": "af4c80fc",
   "metadata": {},
   "outputs": [
    {
     "data": {
      "text/plain": [
       "['Plant 1', 'Plant 2', 'Plant 3', 'Animal 1', 'Animal 2', 'Animal 3']"
      ]
     },
     "execution_count": 58,
     "metadata": {},
     "output_type": "execute_result"
    }
   ],
   "source": [
    "lifeforms_lc = [life.get_text() for life in lifeforms]\n",
    "lifeforms_lc"
   ]
  },
  {
   "cell_type": "code",
   "execution_count": 61,
   "id": "e24bef57",
   "metadata": {},
   "outputs": [
    {
     "data": {
      "text/plain": [
       "list"
      ]
     },
     "execution_count": 61,
     "metadata": {},
     "output_type": "execute_result"
    }
   ],
   "source": [
    "type(lifeforms_lc)"
   ]
  },
  {
   "cell_type": "code",
   "execution_count": 62,
   "id": "edd3c759",
   "metadata": {},
   "outputs": [
    {
     "ename": "AttributeError",
     "evalue": "ResultSet object has no attribute 'get'. You're probably treating a list of elements like a single element. Did you call find_all() when you meant to call find()?",
     "output_type": "error",
     "traceback": [
      "\u001b[0;31m---------------------------------------------------------------------------\u001b[0m",
      "\u001b[0;31mAttributeError\u001b[0m                            Traceback (most recent call last)",
      "Cell \u001b[0;32mIn[62], line 1\u001b[0m\n\u001b[0;32m----> 1\u001b[0m lifeforms\u001b[38;5;241m.\u001b[39mget(\u001b[38;5;124m\"\u001b[39m\u001b[38;5;124mhref\u001b[39m\u001b[38;5;124m\"\u001b[39m)\n",
      "File \u001b[0;32m~/anaconda3/lib/python3.11/site-packages/bs4/element.py:2428\u001b[0m, in \u001b[0;36mResultSet.__getattr__\u001b[0;34m(self, key)\u001b[0m\n\u001b[1;32m   2426\u001b[0m \u001b[38;5;28;01mdef\u001b[39;00m \u001b[38;5;21m__getattr__\u001b[39m(\u001b[38;5;28mself\u001b[39m, key):\n\u001b[1;32m   2427\u001b[0m \u001b[38;5;250m    \u001b[39m\u001b[38;5;124;03m\"\"\"Raise a helpful exception to explain a common code fix.\"\"\"\u001b[39;00m\n\u001b[0;32m-> 2428\u001b[0m     \u001b[38;5;28;01mraise\u001b[39;00m \u001b[38;5;167;01mAttributeError\u001b[39;00m(\n\u001b[1;32m   2429\u001b[0m         \u001b[38;5;124m\"\u001b[39m\u001b[38;5;124mResultSet object has no attribute \u001b[39m\u001b[38;5;124m'\u001b[39m\u001b[38;5;132;01m%s\u001b[39;00m\u001b[38;5;124m'\u001b[39m\u001b[38;5;124m. You\u001b[39m\u001b[38;5;124m'\u001b[39m\u001b[38;5;124mre probably treating a list of elements like a single element. Did you call find_all() when you meant to call find()?\u001b[39m\u001b[38;5;124m\"\u001b[39m \u001b[38;5;241m%\u001b[39m key\n\u001b[1;32m   2430\u001b[0m     )\n",
      "\u001b[0;31mAttributeError\u001b[0m: ResultSet object has no attribute 'get'. You're probably treating a list of elements like a single element. Did you call find_all() when you meant to call find()?"
     ]
    }
   ],
   "source": [
    "lifeforms.get(\"href\")"
   ]
  },
  {
   "cell_type": "code",
   "execution_count": 63,
   "id": "06e1f4ae",
   "metadata": {},
   "outputs": [
    {
     "name": "stdout",
     "output_type": "stream",
     "text": [
      "http://example.com/plant1\n",
      "http://example.com/plant2\n",
      "http://example.com/plant3\n",
      "http://example.com/animal1\n",
      "http://example.com/animal2\n",
      "http://example.com/animal3\n"
     ]
    }
   ],
   "source": [
    "for url in lifeforms:\n",
    "    print(url.get('href'))"
   ]
  },
  {
   "cell_type": "code",
   "execution_count": 80,
   "id": "d4b8fc79",
   "metadata": {},
   "outputs": [
    {
     "data": {
      "text/plain": [
       "['http://example.com/plant1',\n",
       " 'http://example.com/plant2',\n",
       " 'http://example.com/plant3',\n",
       " 'http://example.com/animal1',\n",
       " 'http://example.com/animal2',\n",
       " 'http://example.com/animal3']"
      ]
     },
     "execution_count": 80,
     "metadata": {},
     "output_type": "execute_result"
    }
   ],
   "source": [
    "links_fl = []\n",
    "for url in lifeforms:\n",
    "    urls = url.get('href')\n",
    "    links_fl.append(urls)\n",
    "\n",
    "links_fl"
   ]
  },
  {
   "cell_type": "code",
   "execution_count": 85,
   "id": "de3eba9d",
   "metadata": {},
   "outputs": [
    {
     "data": {
      "text/plain": [
       "['http://example.com/plant1',\n",
       " 'http://example.com/plant2',\n",
       " 'http://example.com/plant3',\n",
       " 'http://example.com/animal1',\n",
       " 'http://example.com/animal2',\n",
       " 'http://example.com/animal3']"
      ]
     },
     "execution_count": 85,
     "metadata": {},
     "output_type": "execute_result"
    }
   ],
   "source": [
    "links_lc = [url.get('href') for url in lifeforms]\n",
    "links_lc"
   ]
  },
  {
   "cell_type": "code",
   "execution_count": 89,
   "id": "1e2cf858",
   "metadata": {},
   "outputs": [
    {
     "data": {
      "text/plain": [
       "[<span class=\"cost\">$10</span>,\n",
       " <span class=\"cost\">$20</span>,\n",
       " <span class=\"cost\">$30</span>,\n",
       " <span class=\"cost\">$500</span>,\n",
       " <span class=\"cost\">$600</span>,\n",
       " <span class=\"cost\">$700</span>]"
      ]
     },
     "execution_count": 89,
     "metadata": {},
     "output_type": "execute_result"
    }
   ],
   "source": [
    "costs = soup.find_all(\"span\",class_=\"cost\")\n",
    "costs"
   ]
  },
  {
   "cell_type": "code",
   "execution_count": 94,
   "id": "4a7172d1",
   "metadata": {},
   "outputs": [
    {
     "data": {
      "text/plain": [
       "['10', '20', '30', '500', '600', '700']"
      ]
     },
     "execution_count": 94,
     "metadata": {},
     "output_type": "execute_result"
    }
   ],
   "source": [
    "costs_fl = []\n",
    "for cost in costs:\n",
    "    costs_fl.append(cost.get_text().replace(\"$\", \"\"))\n",
    "    \n",
    "costs_fl"
   ]
  },
  {
   "cell_type": "code",
   "execution_count": 96,
   "id": "8c27edea",
   "metadata": {},
   "outputs": [
    {
     "data": {
      "text/plain": [
       "['10', '20', '30', '500', '600', '700']"
      ]
     },
     "execution_count": 96,
     "metadata": {},
     "output_type": "execute_result"
    }
   ],
   "source": [
    "costs_lc = [cost.get_text().replace(\"$\", \"\") for cost in costs]\n",
    "costs_lc"
   ]
  },
  {
   "cell_type": "code",
   "execution_count": 97,
   "id": "e145d170",
   "metadata": {},
   "outputs": [],
   "source": [
    "#creat dictionaries"
   ]
  },
  {
   "cell_type": "code",
   "execution_count": 110,
   "id": "40edea3f",
   "metadata": {},
   "outputs": [
    {
     "data": {
      "text/plain": [
       "[{'product': 'Plant 1', 'cost': '10', 'link': 'http://example.com/plant1'},\n",
       " {'product': 'Plant 2', 'cost': '20', 'link': 'http://example.com/plant2'},\n",
       " {'product': 'Plant 3', 'cost': '30', 'link': 'http://example.com/plant3'},\n",
       " {'product': 'Animal 1', 'cost': '500', 'link': 'http://example.com/animal1'},\n",
       " {'product': 'Animal 2', 'cost': '600', 'link': 'http://example.com/animal2'},\n",
       " {'product': 'Animal 3', 'cost': '700', 'link': 'http://example.com/animal3'}]"
      ]
     },
     "execution_count": 110,
     "metadata": {},
     "output_type": "execute_result"
    }
   ],
   "source": [
    "#method 1\n",
    "life_list_1 = []\n",
    "for (lifeforms, costs, links) in zip(lifeforms_lc, costs_lc, links_lc):\n",
    "    life_list_1.append({\n",
    "        \"product\":lifeforms,\n",
    "        \"cost\":costs,\n",
    "        \"link\":links})\n",
    "        \n",
    "life_list_1"
   ]
  },
  {
   "cell_type": "code",
   "execution_count": 107,
   "id": "3c9fa3c5",
   "metadata": {},
   "outputs": [],
   "source": [
    "import pandas as pd"
   ]
  },
  {
   "cell_type": "code",
   "execution_count": 111,
   "id": "72f5f0d0",
   "metadata": {},
   "outputs": [
    {
     "data": {
      "text/html": [
       "<div>\n",
       "<style scoped>\n",
       "    .dataframe tbody tr th:only-of-type {\n",
       "        vertical-align: middle;\n",
       "    }\n",
       "\n",
       "    .dataframe tbody tr th {\n",
       "        vertical-align: top;\n",
       "    }\n",
       "\n",
       "    .dataframe thead th {\n",
       "        text-align: right;\n",
       "    }\n",
       "</style>\n",
       "<table border=\"1\" class=\"dataframe\">\n",
       "  <thead>\n",
       "    <tr style=\"text-align: right;\">\n",
       "      <th></th>\n",
       "      <th>product</th>\n",
       "      <th>cost</th>\n",
       "      <th>link</th>\n",
       "    </tr>\n",
       "  </thead>\n",
       "  <tbody>\n",
       "    <tr>\n",
       "      <th>0</th>\n",
       "      <td>Plant 1</td>\n",
       "      <td>10</td>\n",
       "      <td>http://example.com/plant1</td>\n",
       "    </tr>\n",
       "    <tr>\n",
       "      <th>1</th>\n",
       "      <td>Plant 2</td>\n",
       "      <td>20</td>\n",
       "      <td>http://example.com/plant2</td>\n",
       "    </tr>\n",
       "    <tr>\n",
       "      <th>2</th>\n",
       "      <td>Plant 3</td>\n",
       "      <td>30</td>\n",
       "      <td>http://example.com/plant3</td>\n",
       "    </tr>\n",
       "    <tr>\n",
       "      <th>3</th>\n",
       "      <td>Animal 1</td>\n",
       "      <td>500</td>\n",
       "      <td>http://example.com/animal1</td>\n",
       "    </tr>\n",
       "    <tr>\n",
       "      <th>4</th>\n",
       "      <td>Animal 2</td>\n",
       "      <td>600</td>\n",
       "      <td>http://example.com/animal2</td>\n",
       "    </tr>\n",
       "    <tr>\n",
       "      <th>5</th>\n",
       "      <td>Animal 3</td>\n",
       "      <td>700</td>\n",
       "      <td>http://example.com/animal3</td>\n",
       "    </tr>\n",
       "  </tbody>\n",
       "</table>\n",
       "</div>"
      ],
      "text/plain": [
       "    product cost                        link\n",
       "0   Plant 1   10   http://example.com/plant1\n",
       "1   Plant 2   20   http://example.com/plant2\n",
       "2   Plant 3   30   http://example.com/plant3\n",
       "3  Animal 1  500  http://example.com/animal1\n",
       "4  Animal 2  600  http://example.com/animal2\n",
       "5  Animal 3  700  http://example.com/animal3"
      ]
     },
     "execution_count": 111,
     "metadata": {},
     "output_type": "execute_result"
    }
   ],
   "source": [
    "pd.DataFrame(life_list_1)"
   ]
  },
  {
   "cell_type": "code",
   "execution_count": 117,
   "id": "e8a94ee8",
   "metadata": {},
   "outputs": [
    {
     "data": {
      "text/plain": [
       "[('Plant 1', '10', 'http://example.com/plant1'),\n",
       " ('Plant 2', '20', 'http://example.com/plant2'),\n",
       " ('Plant 3', '30', 'http://example.com/plant3'),\n",
       " ('Animal 1', '500', 'http://example.com/animal1'),\n",
       " ('Animal 2', '600', 'http://example.com/animal2'),\n",
       " ('Animal 3', '700', 'http://example.com/animal3')]"
      ]
     },
     "execution_count": 117,
     "metadata": {},
     "output_type": "execute_result"
    }
   ],
   "source": [
    "#method 2\n",
    "life_list_2 = []\n",
    "for my_items in zip(lifeforms_lc, costs_lc, links_lc):\n",
    "    life_list_2.append(my_items)\n",
    "\n",
    "life_list_2"
   ]
  },
  {
   "cell_type": "code",
   "execution_count": 123,
   "id": "2f8c5a28",
   "metadata": {},
   "outputs": [
    {
     "data": {
      "text/html": [
       "<div>\n",
       "<style scoped>\n",
       "    .dataframe tbody tr th:only-of-type {\n",
       "        vertical-align: middle;\n",
       "    }\n",
       "\n",
       "    .dataframe tbody tr th {\n",
       "        vertical-align: top;\n",
       "    }\n",
       "\n",
       "    .dataframe thead th {\n",
       "        text-align: right;\n",
       "    }\n",
       "</style>\n",
       "<table border=\"1\" class=\"dataframe\">\n",
       "  <thead>\n",
       "    <tr style=\"text-align: right;\">\n",
       "      <th></th>\n",
       "      <th>0</th>\n",
       "      <th>1</th>\n",
       "      <th>2</th>\n",
       "    </tr>\n",
       "  </thead>\n",
       "  <tbody>\n",
       "    <tr>\n",
       "      <th>0</th>\n",
       "      <td>Plant 1</td>\n",
       "      <td>10</td>\n",
       "      <td>http://example.com/plant1</td>\n",
       "    </tr>\n",
       "    <tr>\n",
       "      <th>1</th>\n",
       "      <td>Plant 2</td>\n",
       "      <td>20</td>\n",
       "      <td>http://example.com/plant2</td>\n",
       "    </tr>\n",
       "    <tr>\n",
       "      <th>2</th>\n",
       "      <td>Plant 3</td>\n",
       "      <td>30</td>\n",
       "      <td>http://example.com/plant3</td>\n",
       "    </tr>\n",
       "    <tr>\n",
       "      <th>3</th>\n",
       "      <td>Animal 1</td>\n",
       "      <td>500</td>\n",
       "      <td>http://example.com/animal1</td>\n",
       "    </tr>\n",
       "    <tr>\n",
       "      <th>4</th>\n",
       "      <td>Animal 2</td>\n",
       "      <td>600</td>\n",
       "      <td>http://example.com/animal2</td>\n",
       "    </tr>\n",
       "    <tr>\n",
       "      <th>5</th>\n",
       "      <td>Animal 3</td>\n",
       "      <td>700</td>\n",
       "      <td>http://example.com/animal3</td>\n",
       "    </tr>\n",
       "  </tbody>\n",
       "</table>\n",
       "</div>"
      ],
      "text/plain": [
       "          0    1                           2\n",
       "0   Plant 1   10   http://example.com/plant1\n",
       "1   Plant 2   20   http://example.com/plant2\n",
       "2   Plant 3   30   http://example.com/plant3\n",
       "3  Animal 1  500  http://example.com/animal1\n",
       "4  Animal 2  600  http://example.com/animal2\n",
       "5  Animal 3  700  http://example.com/animal3"
      ]
     },
     "execution_count": 123,
     "metadata": {},
     "output_type": "execute_result"
    }
   ],
   "source": [
    "df = pd.DataFrame(life_list_2)\n",
    "df"
   ]
  },
  {
   "cell_type": "code",
   "execution_count": 127,
   "id": "e7acd20b",
   "metadata": {},
   "outputs": [
    {
     "data": {
      "text/html": [
       "<div>\n",
       "<style scoped>\n",
       "    .dataframe tbody tr th:only-of-type {\n",
       "        vertical-align: middle;\n",
       "    }\n",
       "\n",
       "    .dataframe tbody tr th {\n",
       "        vertical-align: top;\n",
       "    }\n",
       "\n",
       "    .dataframe thead th {\n",
       "        text-align: right;\n",
       "    }\n",
       "</style>\n",
       "<table border=\"1\" class=\"dataframe\">\n",
       "  <thead>\n",
       "    <tr style=\"text-align: right;\">\n",
       "      <th></th>\n",
       "      <th>Product</th>\n",
       "      <th>Cost</th>\n",
       "      <th>Link</th>\n",
       "    </tr>\n",
       "  </thead>\n",
       "  <tbody>\n",
       "    <tr>\n",
       "      <th>0</th>\n",
       "      <td>Plant 1</td>\n",
       "      <td>10</td>\n",
       "      <td>http://example.com/plant1</td>\n",
       "    </tr>\n",
       "    <tr>\n",
       "      <th>1</th>\n",
       "      <td>Plant 2</td>\n",
       "      <td>20</td>\n",
       "      <td>http://example.com/plant2</td>\n",
       "    </tr>\n",
       "    <tr>\n",
       "      <th>2</th>\n",
       "      <td>Plant 3</td>\n",
       "      <td>30</td>\n",
       "      <td>http://example.com/plant3</td>\n",
       "    </tr>\n",
       "    <tr>\n",
       "      <th>3</th>\n",
       "      <td>Animal 1</td>\n",
       "      <td>500</td>\n",
       "      <td>http://example.com/animal1</td>\n",
       "    </tr>\n",
       "    <tr>\n",
       "      <th>4</th>\n",
       "      <td>Animal 2</td>\n",
       "      <td>600</td>\n",
       "      <td>http://example.com/animal2</td>\n",
       "    </tr>\n",
       "    <tr>\n",
       "      <th>5</th>\n",
       "      <td>Animal 3</td>\n",
       "      <td>700</td>\n",
       "      <td>http://example.com/animal3</td>\n",
       "    </tr>\n",
       "  </tbody>\n",
       "</table>\n",
       "</div>"
      ],
      "text/plain": [
       "    Product Cost                        Link\n",
       "0   Plant 1   10   http://example.com/plant1\n",
       "1   Plant 2   20   http://example.com/plant2\n",
       "2   Plant 3   30   http://example.com/plant3\n",
       "3  Animal 1  500  http://example.com/animal1\n",
       "4  Animal 2  600  http://example.com/animal2\n",
       "5  Animal 3  700  http://example.com/animal3"
      ]
     },
     "execution_count": 127,
     "metadata": {},
     "output_type": "execute_result"
    }
   ],
   "source": [
    "df.columns = [\"Product\", \"Cost\", \"Link\"]\n",
    "df"
   ]
  },
  {
   "cell_type": "code",
   "execution_count": 126,
   "id": "fc90399f",
   "metadata": {},
   "outputs": [
    {
     "data": {
      "text/html": [
       "<div>\n",
       "<style scoped>\n",
       "    .dataframe tbody tr th:only-of-type {\n",
       "        vertical-align: middle;\n",
       "    }\n",
       "\n",
       "    .dataframe tbody tr th {\n",
       "        vertical-align: top;\n",
       "    }\n",
       "\n",
       "    .dataframe thead th {\n",
       "        text-align: right;\n",
       "    }\n",
       "</style>\n",
       "<table border=\"1\" class=\"dataframe\">\n",
       "  <thead>\n",
       "    <tr style=\"text-align: right;\">\n",
       "      <th></th>\n",
       "      <th>0</th>\n",
       "      <th>1</th>\n",
       "      <th>2</th>\n",
       "    </tr>\n",
       "  </thead>\n",
       "  <tbody>\n",
       "    <tr>\n",
       "      <th>0</th>\n",
       "      <td>Plant 1</td>\n",
       "      <td>10</td>\n",
       "      <td>http://example.com/plant1</td>\n",
       "    </tr>\n",
       "    <tr>\n",
       "      <th>1</th>\n",
       "      <td>Plant 2</td>\n",
       "      <td>20</td>\n",
       "      <td>http://example.com/plant2</td>\n",
       "    </tr>\n",
       "    <tr>\n",
       "      <th>2</th>\n",
       "      <td>Plant 3</td>\n",
       "      <td>30</td>\n",
       "      <td>http://example.com/plant3</td>\n",
       "    </tr>\n",
       "    <tr>\n",
       "      <th>3</th>\n",
       "      <td>Animal 1</td>\n",
       "      <td>500</td>\n",
       "      <td>http://example.com/animal1</td>\n",
       "    </tr>\n",
       "    <tr>\n",
       "      <th>4</th>\n",
       "      <td>Animal 2</td>\n",
       "      <td>600</td>\n",
       "      <td>http://example.com/animal2</td>\n",
       "    </tr>\n",
       "    <tr>\n",
       "      <th>5</th>\n",
       "      <td>Animal 3</td>\n",
       "      <td>700</td>\n",
       "      <td>http://example.com/animal3</td>\n",
       "    </tr>\n",
       "  </tbody>\n",
       "</table>\n",
       "</div>"
      ],
      "text/plain": [
       "          0    1                           2\n",
       "0   Plant 1   10   http://example.com/plant1\n",
       "1   Plant 2   20   http://example.com/plant2\n",
       "2   Plant 3   30   http://example.com/plant3\n",
       "3  Animal 1  500  http://example.com/animal1\n",
       "4  Animal 2  600  http://example.com/animal2\n",
       "5  Animal 3  700  http://example.com/animal3"
      ]
     },
     "execution_count": 126,
     "metadata": {},
     "output_type": "execute_result"
    }
   ],
   "source": []
  },
  {
   "cell_type": "code",
   "execution_count": null,
   "id": "5f335500",
   "metadata": {},
   "outputs": [],
   "source": []
  }
 ],
 "metadata": {
  "kernelspec": {
   "display_name": "Python 3 (ipykernel)",
   "language": "python",
   "name": "python3"
  },
  "language_info": {
   "codemirror_mode": {
    "name": "ipython",
    "version": 3
   },
   "file_extension": ".py",
   "mimetype": "text/x-python",
   "name": "python",
   "nbconvert_exporter": "python",
   "pygments_lexer": "ipython3",
   "version": "3.11.5"
  }
 },
 "nbformat": 4,
 "nbformat_minor": 5
}
