{
 "cells": [
  {
   "cell_type": "markdown",
   "id": "5fb4d600",
   "metadata": {},
   "source": [
    "## Scraping non-tabular, multipage sites\n",
    "Scrape the top 500 <a href=\"https://bestsellingalbums.org/decade/2010\">best-selling albums of the 2010's</a>. Your data must include the following datapoints:\n",
    "\n",
    "- Name of album\n",
    "- Name of artist\n",
    "- Number of albums sold \n",
    "- The link to the page that breaks down sales by country (found by clicking album title)\n",
    "\n"
   ]
  },
  {
   "cell_type": "markdown",
   "id": "ed1eb956",
   "metadata": {},
   "source": [
    "### My Approach\n",
    "\n",
    "- verify data on page\n",
    "- find targets tags and classes using inspect elements\n",
    "- scrape for a single page to verify\n",
    "- iterate through all pages"
   ]
  },
  {
   "cell_type": "code",
   "execution_count": 1,
   "id": "ac2a9d7c",
   "metadata": {},
   "outputs": [],
   "source": [
    "## import libraries\n",
    "import requests\n",
    "from bs4 import BeautifulSoup\n",
    "import pandas as pd\n",
    "import time\n",
    "from random import randrange"
   ]
  },
  {
   "cell_type": "code",
   "execution_count": 2,
   "id": "aaba252e",
   "metadata": {},
   "outputs": [],
   "source": [
    "## Scrape one page of data points (then we build one that iterates through all pages)\n",
    "\n",
    "## url to scrape\n",
    "\n",
    "url = \"https://bestsellingalbums.org/decade/2010\"\n"
   ]
  },
  {
   "cell_type": "code",
   "execution_count": 3,
   "id": "0c47ed78",
   "metadata": {},
   "outputs": [
    {
     "data": {
      "text/plain": [
       "<Response [200]>"
      ]
     },
     "execution_count": 3,
     "metadata": {},
     "output_type": "execute_result"
    }
   ],
   "source": [
    "## request site\n",
    "response = requests.get(url)\n",
    "response"
   ]
  },
  {
   "cell_type": "code",
   "execution_count": 4,
   "id": "075667cf",
   "metadata": {},
   "outputs": [],
   "source": [
    "## turn response into soup (navigable html from string)\n",
    "soup = BeautifulSoup(response.text, \"html.parser\")\n"
   ]
  },
  {
   "cell_type": "code",
   "execution_count": 5,
   "id": "8624ea8e",
   "metadata": {},
   "outputs": [],
   "source": [
    "## grab ALL albums and store in variable\n",
    "all_albums = soup.find_all(\"div\", class_=\"album_card\")\n",
    "# all_albums"
   ]
  },
  {
   "cell_type": "code",
   "execution_count": 6,
   "id": "8e235af2",
   "metadata": {},
   "outputs": [
    {
     "data": {
      "text/plain": [
       "<div class=\"album_card\"><div class=\"rank\">1</div><div class=\"cover\"><img class=\"pic\" onerror=\"this.src='../includes/default.png';this.onerror='';\" src=\"../covers/1034.jpg\"/></div><div class=\"data_col\"><div class=\"album\"><a href=\"https://bestsellingalbums.org/album/1034\">21</a></div><div class=\"artist\"><a href=\"https://bestsellingalbums.org/artist/218\" title=\"ADELE album sales\">ADELE</a></div><div class=\"sales\">Sales: 30,000,000</div><div class=\"rank_mobile\">Rankings:</div><div class=\"ranks_row\"><div class=\"ranks\"><a href=\"https://bestsellingalbums.org/year/2011\" title=\"Best-selling albums of 2011\"><span class=\"ranks_desc_art\">Rank in </span>2011</a> : 1</div><div class=\"ranks\"><a href=\"https://bestsellingalbums.org/decade/2010\" title=\"Best-selling albums of 2010's\"><span class=\"ranks_desc_art\">Rank in </span>2010's</a>: 1</div><div class=\"ranks\"><a href=\"https://bestsellingalbums.org/overall\" title=\"Best-selling albums of all time\">Overall<span class=\"ranks_desc_art\"> rank</span></a> : 24</div></div></div></div>"
      ]
     },
     "execution_count": 6,
     "metadata": {},
     "output_type": "execute_result"
    }
   ],
   "source": [
    "## look at one album data\n",
    "all_albums[0]"
   ]
  },
  {
   "cell_type": "code",
   "execution_count": 7,
   "id": "ddc80b01",
   "metadata": {},
   "outputs": [],
   "source": [
    "## because the links and titles are in the same card\n",
    "## all album titles & links by for loop\n",
    "\n",
    "albums_list = []\n",
    "albums_url_list = []\n",
    "for album in all_albums:\n",
    "    albums_list.append(album.find(\"div\", class_=\"album\").get_text())\n",
    "    albums_url_list.append(album.find(\"a\").get(\"href\"))"
   ]
  },
  {
   "cell_type": "code",
   "execution_count": 8,
   "id": "030635eb",
   "metadata": {},
   "outputs": [
    {
     "name": "stdout",
     "output_type": "stream",
     "text": [
      "['21', '25', 'CHRISTMAS', '1989', 'PURPOSE', 'DIVIDE', 'FROZEN', 'TEENAGE DREAM', 'X', 'DOO-WOPS & HOOLIGANS', 'RECOVERY', 'NIGHT VISIONS', 'IN THE LONELY HOUR', 'UNORTHODOX JUKEBOX', 'RED', '+', 'VIEWS', 'BEAUTY BEHIND THE MADNESS', 'WHEN WE ALL FALL ASLEEP, WHERE DO WE GO?', 'BORN THIS WAY', 'MAP OF THE SOUL: 7', 'BEERBONGS & BENTLEYS', 'TAKE CARE', 'SPEAK NOW', 'PRISM', 'BORN TO DIE', 'LOUD', 'ANTI', 'BLURRYFACE', \"HOLLYWOOD'S BLEEDING\", 'SCORPION', 'STONEY', 'TAKE ME HOME', 'THE GREATEST SHOWMAN', 'BEYONCÉ', 'THE TRUTH ABOUT LOVE', 'REPUTATION', '?', 'TRAVELLER', 'STARBOY', 'UP ALL NIGHT', 'MIDNIGHT MEMORIES', 'MAP OF THE SOUL: PERSONA', 'GOODBYE & GOOD RIDDANCE', 'A HEAD FULL OF DREAMS', 'THE HEIST', 'THE MARSHALL MATHERS LP 2', 'LOVER', 'WATCH THE THRONE', \"THIS ONE'S FOR YOU\"]\n"
     ]
    }
   ],
   "source": [
    "## see albums list only\n",
    "print(albums_list)"
   ]
  },
  {
   "cell_type": "code",
   "execution_count": 9,
   "id": "f8b1a2aa",
   "metadata": {},
   "outputs": [
    {
     "name": "stdout",
     "output_type": "stream",
     "text": [
      "['https://bestsellingalbums.org/album/1034', 'https://bestsellingalbums.org/album/1035', 'https://bestsellingalbums.org/album/30524', 'https://bestsellingalbums.org/album/45488', 'https://bestsellingalbums.org/album/23318', 'https://bestsellingalbums.org/album/12876', 'https://bestsellingalbums.org/album/42961', 'https://bestsellingalbums.org/album/23977', 'https://bestsellingalbums.org/album/12880', 'https://bestsellingalbums.org/album/6777', 'https://bestsellingalbums.org/album/13756', 'https://bestsellingalbums.org/album/19810', 'https://bestsellingalbums.org/album/39978', 'https://bestsellingalbums.org/album/6778', 'https://bestsellingalbums.org/album/45494', 'https://bestsellingalbums.org/album/12875', 'https://bestsellingalbums.org/album/12457', 'https://bestsellingalbums.org/album/47839', 'https://bestsellingalbums.org/album/5207', 'https://bestsellingalbums.org/album/25786', 'https://bestsellingalbums.org/album/6859', 'https://bestsellingalbums.org/album/36763', 'https://bestsellingalbums.org/album/12455', 'https://bestsellingalbums.org/album/45496', 'https://bestsellingalbums.org/album/23975', 'https://bestsellingalbums.org/album/25846', 'https://bestsellingalbums.org/album/38507', 'https://bestsellingalbums.org/album/38505', 'https://bestsellingalbums.org/album/49504', 'https://bestsellingalbums.org/album/36764', 'https://bestsellingalbums.org/album/12453', 'https://bestsellingalbums.org/album/36765', 'https://bestsellingalbums.org/album/34460', 'https://bestsellingalbums.org/album/43568', 'https://bestsellingalbums.org/album/4969', 'https://bestsellingalbums.org/album/34874', 'https://bestsellingalbums.org/album/45495', 'https://bestsellingalbums.org/album/56027', 'https://bestsellingalbums.org/album/8686', 'https://bestsellingalbums.org/album/47843', 'https://bestsellingalbums.org/album/34461', 'https://bestsellingalbums.org/album/34459', 'https://bestsellingalbums.org/album/6860', 'https://bestsellingalbums.org/album/23018', 'https://bestsellingalbums.org/album/9346', 'https://bestsellingalbums.org/album/28330', 'https://bestsellingalbums.org/album/13762', 'https://bestsellingalbums.org/album/45493', 'https://bestsellingalbums.org/album/21088', 'https://bestsellingalbums.org/album/28046']\n"
     ]
    }
   ],
   "source": [
    "## see album links\n",
    "print(albums_url_list)"
   ]
  },
  {
   "cell_type": "code",
   "execution_count": 10,
   "id": "24b24aa9",
   "metadata": {},
   "outputs": [
    {
     "name": "stdout",
     "output_type": "stream",
     "text": [
      "['ADELE', 'ADELE', 'MICHAEL BUBLÉ', 'TAYLOR SWIFT', 'JUSTIN BIEBER', 'ED SHEERAN', 'SOUNDTRACK', 'KATY PERRY', 'ED SHEERAN', 'BRUNO MARS', 'EMINEM', 'IMAGINE DRAGONS', 'SAM SMITH', 'BRUNO MARS', 'TAYLOR SWIFT', 'ED SHEERAN', 'DRAKE', 'THE WEEKND', 'BILLIE EILISH', 'LADY GAGA', 'BTS (방탄소년단)', 'POST MALONE', 'DRAKE', 'TAYLOR SWIFT', 'KATY PERRY', 'LANA DEL REY', 'RIHANNA', 'RIHANNA', 'TWENTY ONE PILOTS', 'POST MALONE', 'DRAKE', 'POST MALONE', 'ONE DIRECTION', 'SOUNDTRACK', 'BEYONCÉ', 'P!NK', 'TAYLOR SWIFT', 'XXXTENTACION', 'CHRIS STAPLETON', 'THE WEEKND', 'ONE DIRECTION', 'ONE DIRECTION', 'BTS (방탄소년단)', 'JUICE WRLD', 'COLDPLAY', 'MACKLEMORE & RYAN LEWIS', 'EMINEM', 'TAYLOR SWIFT', 'JAY-Z & KANYE WEST', 'LUKE COMBS']\n"
     ]
    }
   ],
   "source": [
    "## get artist names\n",
    "## by List comprehension form\n",
    "artists_list = [artist.find(\"div\", class_=\"artist\").get_text() for artist in all_albums]\n",
    "print(artists_list)"
   ]
  },
  {
   "cell_type": "code",
   "execution_count": 11,
   "id": "bb2da269",
   "metadata": {},
   "outputs": [],
   "source": [
    "## target sales data and store in list\n",
    "sales_list = []\n",
    "\n",
    "for sale in all_albums:\n",
    "    sales = sale.find(\"div\", class_=\"sales\").get_text() ## get the sales text\n",
    "    sales = int(sales.replace(\"Sales: \",\"\").replace(\",\",\"\")) ## Turn into integer remove Sales: and commas\n",
    "    sales_list.append(sales)"
   ]
  },
  {
   "cell_type": "code",
   "execution_count": 12,
   "id": "e7b35bce",
   "metadata": {},
   "outputs": [
    {
     "name": "stdout",
     "output_type": "stream",
     "text": [
      "[30000000, 23000000, 15000000, 14748116, 14000000, 13787460, 12632083, 12134000, 11879785, 11270000, 10873795, 9616263, 9321352, 8976749, 8889124, 7705000, 7687247, 7584588, 7256516, 7166944, 7130621, 7116118, 6920000, 6917500, 6692500, 6674983, 6673000, 6537235, 6500000, 6461665, 6433983, 6371355, 6334619, 6318119, 6290833, 6231084, 6186524, 6182852, 6157000, 6070666, 6046188, 6020087, 6010031, 6002713, 6000000, 5858500, 5790318, 5686733, 5550000, 5490000]\n"
     ]
    }
   ],
   "source": [
    "## print sales list\n",
    "print(sales_list)"
   ]
  },
  {
   "cell_type": "code",
   "execution_count": 13,
   "id": "faa15a38",
   "metadata": {},
   "outputs": [
    {
     "name": "stdout",
     "output_type": "stream",
     "text": [
      "[('ADELE', '21', 30000000, 'https://bestsellingalbums.org/album/1034'), ('ADELE', '25', 23000000, 'https://bestsellingalbums.org/album/1035'), ('MICHAEL BUBLÉ', 'CHRISTMAS', 15000000, 'https://bestsellingalbums.org/album/30524'), ('TAYLOR SWIFT', '1989', 14748116, 'https://bestsellingalbums.org/album/45488'), ('JUSTIN BIEBER', 'PURPOSE', 14000000, 'https://bestsellingalbums.org/album/23318'), ('ED SHEERAN', 'DIVIDE', 13787460, 'https://bestsellingalbums.org/album/12876'), ('SOUNDTRACK', 'FROZEN', 12632083, 'https://bestsellingalbums.org/album/42961'), ('KATY PERRY', 'TEENAGE DREAM', 12134000, 'https://bestsellingalbums.org/album/23977'), ('ED SHEERAN', 'X', 11879785, 'https://bestsellingalbums.org/album/12880'), ('BRUNO MARS', 'DOO-WOPS & HOOLIGANS', 11270000, 'https://bestsellingalbums.org/album/6777'), ('EMINEM', 'RECOVERY', 10873795, 'https://bestsellingalbums.org/album/13756'), ('IMAGINE DRAGONS', 'NIGHT VISIONS', 9616263, 'https://bestsellingalbums.org/album/19810'), ('SAM SMITH', 'IN THE LONELY HOUR', 9321352, 'https://bestsellingalbums.org/album/39978'), ('BRUNO MARS', 'UNORTHODOX JUKEBOX', 8976749, 'https://bestsellingalbums.org/album/6778'), ('TAYLOR SWIFT', 'RED', 8889124, 'https://bestsellingalbums.org/album/45494'), ('ED SHEERAN', '+', 7705000, 'https://bestsellingalbums.org/album/12875'), ('DRAKE', 'VIEWS', 7687247, 'https://bestsellingalbums.org/album/12457'), ('THE WEEKND', 'BEAUTY BEHIND THE MADNESS', 7584588, 'https://bestsellingalbums.org/album/47839'), ('BILLIE EILISH', 'WHEN WE ALL FALL ASLEEP, WHERE DO WE GO?', 7256516, 'https://bestsellingalbums.org/album/5207'), ('LADY GAGA', 'BORN THIS WAY', 7166944, 'https://bestsellingalbums.org/album/25786'), ('BTS (방탄소년단)', 'MAP OF THE SOUL: 7', 7130621, 'https://bestsellingalbums.org/album/6859'), ('POST MALONE', 'BEERBONGS & BENTLEYS', 7116118, 'https://bestsellingalbums.org/album/36763'), ('DRAKE', 'TAKE CARE', 6920000, 'https://bestsellingalbums.org/album/12455'), ('TAYLOR SWIFT', 'SPEAK NOW', 6917500, 'https://bestsellingalbums.org/album/45496'), ('KATY PERRY', 'PRISM', 6692500, 'https://bestsellingalbums.org/album/23975'), ('LANA DEL REY', 'BORN TO DIE', 6674983, 'https://bestsellingalbums.org/album/25846'), ('RIHANNA', 'LOUD', 6673000, 'https://bestsellingalbums.org/album/38507'), ('RIHANNA', 'ANTI', 6537235, 'https://bestsellingalbums.org/album/38505'), ('TWENTY ONE PILOTS', 'BLURRYFACE', 6500000, 'https://bestsellingalbums.org/album/49504'), ('POST MALONE', \"HOLLYWOOD'S BLEEDING\", 6461665, 'https://bestsellingalbums.org/album/36764'), ('DRAKE', 'SCORPION', 6433983, 'https://bestsellingalbums.org/album/12453'), ('POST MALONE', 'STONEY', 6371355, 'https://bestsellingalbums.org/album/36765'), ('ONE DIRECTION', 'TAKE ME HOME', 6334619, 'https://bestsellingalbums.org/album/34460'), ('SOUNDTRACK', 'THE GREATEST SHOWMAN', 6318119, 'https://bestsellingalbums.org/album/43568'), ('BEYONCÉ', 'BEYONCÉ', 6290833, 'https://bestsellingalbums.org/album/4969'), ('P!NK', 'THE TRUTH ABOUT LOVE', 6231084, 'https://bestsellingalbums.org/album/34874'), ('TAYLOR SWIFT', 'REPUTATION', 6186524, 'https://bestsellingalbums.org/album/45495'), ('XXXTENTACION', '?', 6182852, 'https://bestsellingalbums.org/album/56027'), ('CHRIS STAPLETON', 'TRAVELLER', 6157000, 'https://bestsellingalbums.org/album/8686'), ('THE WEEKND', 'STARBOY', 6070666, 'https://bestsellingalbums.org/album/47843'), ('ONE DIRECTION', 'UP ALL NIGHT', 6046188, 'https://bestsellingalbums.org/album/34461'), ('ONE DIRECTION', 'MIDNIGHT MEMORIES', 6020087, 'https://bestsellingalbums.org/album/34459'), ('BTS (방탄소년단)', 'MAP OF THE SOUL: PERSONA', 6010031, 'https://bestsellingalbums.org/album/6860'), ('JUICE WRLD', 'GOODBYE & GOOD RIDDANCE', 6002713, 'https://bestsellingalbums.org/album/23018'), ('COLDPLAY', 'A HEAD FULL OF DREAMS', 6000000, 'https://bestsellingalbums.org/album/9346'), ('MACKLEMORE & RYAN LEWIS', 'THE HEIST', 5858500, 'https://bestsellingalbums.org/album/28330'), ('EMINEM', 'THE MARSHALL MATHERS LP 2', 5790318, 'https://bestsellingalbums.org/album/13762'), ('TAYLOR SWIFT', 'LOVER', 5686733, 'https://bestsellingalbums.org/album/45493'), ('JAY-Z & KANYE WEST', 'WATCH THE THRONE', 5550000, 'https://bestsellingalbums.org/album/21088'), ('LUKE COMBS', \"THIS ONE'S FOR YOU\", 5490000, 'https://bestsellingalbums.org/album/28046')]\n"
     ]
    }
   ],
   "source": [
    "## zip into tuple\n",
    "album_data = []\n",
    "for all_data in zip(artists_list, albums_list, sales_list, albums_url_list):\n",
    "    album_data.append(all_data)\n",
    "    \n",
    "print(album_data)"
   ]
  },
  {
   "cell_type": "code",
   "execution_count": 17,
   "id": "0b82b0e9",
   "metadata": {},
   "outputs": [],
   "source": [
    "## convert to df\n",
    "df = pd.DataFrame(album_data)\n",
    "df.columns = [\"artist\", \"title\", \"sales\", \"more_info\"]"
   ]
  },
  {
   "cell_type": "markdown",
   "id": "080651cf",
   "metadata": {},
   "source": [
    "## Notice you dont have run multiple for loops because everything you want can be found in the same temporary variable"
   ]
  },
  {
   "cell_type": "code",
   "execution_count": null,
   "id": "241ffcf6",
   "metadata": {},
   "outputs": [],
   "source": [
    "## all in one\n",
    "artists_list = []\n",
    "albums_list = []\n",
    "albums_url_list = []\n",
    "sales_list = []\n",
    "\n",
    "for target in all_albums:\n",
    "    ## artist name\n",
    "    artists_list.append(target.find(\"div\", class_=\"artist\").get_text())\n",
    "    ## album title\n",
    "    albums_list.append(target.find(\"div\", class_=\"album\").get_text())\n",
    "    ## album links\n",
    "    albums_url_list.append(target.find(\"a\").get(\"href\"))\n",
    "    ##sales\n",
    "    sales = target.find(\"div\", class_=\"sales\").get_text() ## get the sales text\n",
    "    sales = int(sales.replace(\"Sales: \",\"\").replace(\",\",\"\")) ## Turn into integer remove Sales: and commas\n",
    "    sales_list.append(sales)"
   ]
  },
  {
   "cell_type": "code",
   "execution_count": null,
   "id": "2c67e804",
   "metadata": {},
   "outputs": [],
   "source": [
    "## convert to df\n",
    "album_data = []\n",
    "for all_data in zip(artists_list, albums_list, sales_list, albums_url_list):\n",
    "    album_data.append(all_data)\n",
    "    \n",
    "df = pd.DataFrame(album_data)\n",
    "df.columns = [\"artist\", \"title\", \"sales\", \"more_info\"]\n",
    "df"
   ]
  },
  {
   "cell_type": "markdown",
   "id": "bf6230a9",
   "metadata": {},
   "source": [
    "## iterate to capture the first 500"
   ]
  },
  {
   "cell_type": "code",
   "execution_count": null,
   "id": "b481a9d7",
   "metadata": {},
   "outputs": [],
   "source": [
    "\n",
    "all_dfs = [] ## hold all dfs\n",
    "url = \"https://bestsellingalbums.org/decade/2010\" ## base url\n",
    "\n",
    "\n",
    "count = 1 ## count\n",
    "while count <=10:\n",
    "    print(f\"Scraping {url}\")\n",
    "    ## get response\n",
    "    response = requests.get(url)\n",
    "    print(response)\n",
    "    ## turn response into soup (navigable html from string)\n",
    "    soup = BeautifulSoup(response.text, \"html.parser\")\n",
    "    print(\"converted to soup\")\n",
    "    ## grab ALL albums data and store in variable\n",
    "    all_albums = soup.find_all(\"div\", class_=\"album_card\")\n",
    "    print(\"got all album data\")\n",
    "    ## name lists to hold data\n",
    "    artists_list = []\n",
    "    albums_list = []\n",
    "    albums_url_list = []\n",
    "    sales_list = []\n",
    "\n",
    "    ## iterate through to capture target data points\n",
    "    for target in all_albums:\n",
    "        ## artist name\n",
    "        artists_list.append(target.find(\"div\", class_=\"artist\").get_text())\n",
    "        ## album title\n",
    "        albums_list.append(target.find(\"div\", class_=\"album\").get_text())\n",
    "        ## album links\n",
    "        albums_url_list.append(target.find(\"a\").get(\"href\"))\n",
    "        ##sales\n",
    "        sales = target.find(\"div\", class_=\"sales\").get_text() ## get the sales text\n",
    "        sales = int(sales.replace(\"Sales: \",\"\").replace(\",\",\"\")) ## Turn into integer remove Sales: and commas\n",
    "        sales_list.append(sales)\n",
    "        \n",
    "    ## zip to tuple\n",
    "    album_data = []\n",
    "    for all_data in zip(artists_list, albums_list, sales_list, albums_url_list):\n",
    "        album_data.append(all_data)\n",
    "#   convert to df\n",
    "    df = pd.DataFrame(album_data)\n",
    "    df.columns = [\"artist\", \"title\", \"sales\", \"more_info\"]\n",
    "    all_dfs.append(df)\n",
    "    print(\"dataframe in list of dataframes\")\n",
    "\n",
    "    \n",
    "    ## incredment url and set timer\n",
    "    count += 1\n",
    "    url = \"https://bestsellingalbums.org/decade/2010\"\n",
    "    url = f\"{url}-{count}\"\n",
    "    snoozer = randrange(5,12)\n",
    "    print(f\"snoozing for {snoozer} seconds before next scrape\")\n",
    "    time.sleep(snoozer)\n",
    "    \n",
    "print(\"done scraping all links\")        \n",
    "        \n",
    "    \n",
    "    \n",
    "    "
   ]
  },
  {
   "cell_type": "code",
   "execution_count": null,
   "id": "95ccab3a",
   "metadata": {},
   "outputs": [],
   "source": [
    "## check if correct number of dfs\n",
    "len(all_dfs)"
   ]
  },
  {
   "cell_type": "code",
   "execution_count": null,
   "id": "370eefa5",
   "metadata": {},
   "outputs": [],
   "source": [
    "## call len a single df to verify correct amount of data points\n",
    "len(all_dfs[1])"
   ]
  },
  {
   "cell_type": "code",
   "execution_count": null,
   "id": "b24c8b6d",
   "metadata": {},
   "outputs": [],
   "source": [
    "## convert to a single df rather than a list of df\n",
    "df = pd.concat(all_dfs, ignore_index = True)\n",
    "df"
   ]
  },
  {
   "cell_type": "code",
   "execution_count": null,
   "id": "9227492f",
   "metadata": {},
   "outputs": [],
   "source": [
    "## call df with 500 albums\n",
    "df"
   ]
  },
  {
   "cell_type": "code",
   "execution_count": null,
   "id": "886b4854",
   "metadata": {},
   "outputs": [],
   "source": []
  }
 ],
 "metadata": {
  "kernelspec": {
   "display_name": "Python 3 (ipykernel)",
   "language": "python",
   "name": "python3"
  },
  "language_info": {
   "codemirror_mode": {
    "name": "ipython",
    "version": 3
   },
   "file_extension": ".py",
   "mimetype": "text/x-python",
   "name": "python",
   "nbconvert_exporter": "python",
   "pygments_lexer": "ipython3",
   "version": "3.11.5"
  }
 },
 "nbformat": 4,
 "nbformat_minor": 5
}
